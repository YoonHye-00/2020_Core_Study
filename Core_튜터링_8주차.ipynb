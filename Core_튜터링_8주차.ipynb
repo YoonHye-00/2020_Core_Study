{
  "nbformat": 4,
  "nbformat_minor": 0,
  "metadata": {
    "colab": {
      "name": "Core_튜터링_8주차",
      "provenance": [],
      "authorship_tag": "ABX9TyP0WjhveYL6FlZU190GAYIq",
      "include_colab_link": true
    },
    "kernelspec": {
      "name": "python3",
      "display_name": "Python 3"
    }
  },
  "cells": [
    {
      "cell_type": "markdown",
      "metadata": {
        "id": "view-in-github",
        "colab_type": "text"
      },
      "source": [
        "<a href=\"https://colab.research.google.com/github/YoonHye-00/2020_Core_Study/blob/main/Core_%ED%8A%9C%ED%84%B0%EB%A7%81_8%EC%A3%BC%EC%B0%A8.ipynb\" target=\"_parent\"><img src=\"https://colab.research.google.com/assets/colab-badge.svg\" alt=\"Open In Colab\"/></a>"
      ]
    },
    {
      "cell_type": "code",
      "metadata": {
        "colab": {
          "base_uri": "https://localhost:8080/"
        },
        "id": "s9sYxVlMQko-",
        "outputId": "56736486-dd9f-462b-f09e-71b9882dc908"
      },
      "source": [
        "dics = {'국어' : 70, '국어' : 80, '수학' : 90, '수학' : 100, '플밍' : 50}\n",
        "print(dics)"
      ],
      "execution_count": 1,
      "outputs": [
        {
          "output_type": "stream",
          "text": [
            "{'국어': 80, '수학': 100, '플밍': 50}\n"
          ],
          "name": "stdout"
        }
      ]
    },
    {
      "cell_type": "code",
      "metadata": {
        "colab": {
          "base_uri": "https://localhost:8080/"
        },
        "id": "VaFYttiMT1eW",
        "outputId": "001cc2dc-9549-40ad-c91c-fb2219a91088"
      },
      "source": [
        "dics2 = {'남윤원' : [3,4,5], '이찬호' : [4,5,6]}\n",
        "dics2['남윤원'] = 4\n",
        "print(dics2)"
      ],
      "execution_count": 2,
      "outputs": [
        {
          "output_type": "stream",
          "text": [
            "{'남윤원': 4, '이찬호': [4, 5, 6]}\n"
          ],
          "name": "stdout"
        }
      ]
    },
    {
      "cell_type": "code",
      "metadata": {
        "colab": {
          "base_uri": "https://localhost:8080/"
        },
        "id": "UL5jmuj9VA5t",
        "outputId": "7df243e1-2574-4547-93ee-7c59efbad94e"
      },
      "source": [
        "lists = ['국어', '수학', '플밍', '물리']\n",
        "d = {'국어' : 90, '수학' : 70, '과학' : 100}\n",
        "# 딕셔너리에서 어떠한 key 값이 존재하는가?\n",
        "# >> (key값 in 딕셔너리 이름) : True 또는 False 값 반환\n",
        "\n",
        "for i in lists :   # 리스트 안에 있는 과목명이\n",
        "    if (i in d) :      # d 딕셔너리 안에 key 값으로 존재하는가?\n",
        "        print(i, 'key 값은 d 딕셔너리에 존재합니다.')\n",
        "    else :\n",
        "        print(i, 'key 값은 d 딕셔너리에 존재하지 않습니다.')\n",
        "\n",
        "# if '과학' in d == True  >> 이렇게 작성할 경우 d == True 이렇게 인식해서 제대로 인식 안 함\n",
        "if ('과학' in d) :  # 이렇게 작성해야 제대로 인식함\n",
        "    print('과학은 d 딕셔너리에 key 값으로 존재합니다.')\n",
        "else :\n",
        "    print('과학은 d 딕셔너리에 key 값으로 존재하지 않습니다.') \n",
        "\n",
        "# 딕셔너리에서 어떠한 value 값이 존재하는가? / value 값이 존재하지 않는다면?\n",
        "hundered = 0\n",
        "for i in d :\n",
        "    print(i, end= ' ')      # 딕셔너리 안에 있는 key 값 출력\n",
        "    print(d[i])             # 딕셔너리 안에 있는 value 값 출력\n",
        "    if d[i] == 100 :\n",
        "#       print('100점이 있어요 !')\n",
        "        hundred = 1\n",
        "if hundred == 0 :\n",
        "    print('100점이 없어요!')\n",
        "else :\n",
        "    print('100점이 있어요!')"
      ],
      "execution_count": 5,
      "outputs": [
        {
          "output_type": "stream",
          "text": [
            "국어 key 값은 d 딕셔너리에 존재합니다.\n",
            "수학 key 값은 d 딕셔너리에 존재합니다.\n",
            "플밍 key 값은 d 딕셔너리에 존재하지 않습니다.\n",
            "물리 key 값은 d 딕셔너리에 존재하지 않습니다.\n",
            "과학은 d 딕셔너리에 key 값으로 존재합니다.\n",
            "국어 90\n",
            "수학 70\n",
            "과학 100\n",
            "100점이 있어요!\n"
          ],
          "name": "stdout"
        }
      ]
    },
    {
      "cell_type": "code",
      "metadata": {
        "colab": {
          "base_uri": "https://localhost:8080/"
        },
        "id": "W5N9IpZcXUlB",
        "outputId": "210cee48-cc4c-41fe-a2ad-f752a6aa2d16"
      },
      "source": [
        "# 튜플\n",
        "tup = ()\n",
        "tup = (3,4,5,6,7,8,4,3,2,1,3)\n",
        "\n",
        "print(tup)\n",
        "for i in tup :\n",
        "    print(i)\n",
        "\n",
        "# 튜플의 가장 큰 성질 중 하나는? 수정이 불가능!\n",
        "# tup[0] = 5   >> TypeError\n",
        "# 함수를 짤 때 여러 개의 리턴값을 반환하는 함수를 짠다면 \n",
        "# 튜플의 형태로 반환됨 !\n",
        "\n",
        "def func() :\n",
        "    return 3, 4, 'd'\n",
        "print(func())  # 튜플의 형태로 반환\n",
        "# 왜 튜플의 형태로 리턴하게 했을까? >> 리스트와 달리 튜플은 각 원소를 수정할 수 없기 때문에, 함수의 리턴값 자체를 임의로 수정하지 못하게 해 놓은 것\n",
        "\n",
        "a, b, c = func()\n",
        "print(a, b, c)\n"
      ],
      "execution_count": 10,
      "outputs": [
        {
          "output_type": "stream",
          "text": [
            "(3, 4, 5, 6, 7, 8, 4, 3, 2, 1, 3)\n",
            "3\n",
            "4\n",
            "5\n",
            "6\n",
            "7\n",
            "8\n",
            "4\n",
            "3\n",
            "2\n",
            "1\n",
            "3\n",
            "(3, 4, 'd')\n",
            "3 4 d\n"
          ],
          "name": "stdout"
        }
      ]
    },
    {
      "cell_type": "code",
      "metadata": {
        "colab": {
          "base_uri": "https://localhost:8080/"
        },
        "id": "QDcCTwwyZgUa",
        "outputId": "e2e4094c-16a3-4b55-c1fc-064b3b401069"
      },
      "source": [
        "# 집합\n",
        "# 집합의 가장 큰 성질 : 중복되는 원소가 없어진다!\n",
        "\n",
        "uni = {}\n",
        "uni = {3,4,5,6,7,7,4,3,2,1,3,5}\n",
        "\n",
        "# 중복되는 원소를 없애준다\n",
        "print(uni)\n",
        "\n",
        "uni2 = {'b', 'a', 'c', 'd', 'd', 'c', 'p'}\n",
        "print(uni2)"
      ],
      "execution_count": 13,
      "outputs": [
        {
          "output_type": "stream",
          "text": [
            "{1, 2, 3, 4, 5, 6, 7}\n",
            "{'p', 'd', 'a', 'b', 'c'}\n"
          ],
          "name": "stdout"
        }
      ]
    },
    {
      "cell_type": "markdown",
      "metadata": {
        "id": "YzxhnfogdDNU"
      },
      "source": [
        "연습문제 중 어려운 문제에 대한 피드백 (어떠한 방법으로 접근할 수 있는지?)"
      ]
    },
    {
      "cell_type": "code",
      "metadata": {
        "id": "SpoyntFkancM"
      },
      "source": [
        "# 연습문제 6.12, 6.13, 6.14 응용\n",
        "# 버블 정렬\n",
        "# 1. 첫번째 원소와 두번째 원소를 비교\n",
        "# 2. 두번째 원소(오른쪽에 있는 원소)가 더 크면, 두 원소를 서로 바꿉니다. (교환, swap)\n",
        "# 3. 맨 오른쪽에 있는 원소를 만날 때까지 수행\n",
        "# 4. 1,2,3,을 다 마치면, 맨 오른쪽에 있는 원소는 가장 큰 원소가 됩니다.\n",
        "# 5. 1,2,3,4를 다시 수행하는데, 맨 오른쪽에 있는 원소(가장 큰"
      ],
      "execution_count": 14,
      "outputs": []
    },
    {
      "cell_type": "code",
      "metadata": {
        "colab": {
          "base_uri": "https://localhost:8080/"
        },
        "id": "kvQAgf77efKv",
        "outputId": "954db809-47af-405f-a15c-4f7bd3a728d5"
      },
      "source": [
        "# 어떤 리스트에서 i번째 위치의 원소와 j번째 위치의 원소를 바꾸는 함수\n",
        "# 1. 임시변수를 사용할 경우\n",
        "def swap(i,j) :\n",
        "    a = list_1[i]\n",
        "    list_1[i] = list_1[j]\n",
        "    list_1[j] = a\n",
        "\n",
        "# 2. 임시변수를 사용하지 않는 경우\n",
        "lists = [4, 23, 49, 12, 30, 48, 32, 12, 4]\n",
        "print('주어진 리스트는 :', lists)\n",
        "\n",
        "# for문을 쓰지 않고\n",
        "# 가장 큰 값이 어느 위치에 있는지를 알면, 문제가 없음\n",
        "# (1) 가장 큰 값이 어떤 값인지 : max(리스트)\n",
        "max_value = max(lists)\n",
        "\n",
        "# (2) 그 값이 어느 위치에 있는지\n",
        "# 리스트.index(찾고자 하는 값, 검색 시작점, 검색 끝점) >> 범위 지정 가능\n",
        "max_index = lists.index(max_value)\n",
        "\n",
        "# (3) 그 위치에 있는 값과 맨 오른쪽에 있는 값을 바꾸는 코드\n",
        "# 가장 큰 값이 위치하는 곳 : max_index\n",
        "# 리스트에서 맨 오른쪽에 있는 값 : lists[-1]\n",
        "lists[-1], lists[max_index] = (lists[max_index], lists[-1])\n",
        "print('가장 큰 수를 마지막으로 옮긴 결과 :', lists)"
      ],
      "execution_count": 17,
      "outputs": [
        {
          "output_type": "stream",
          "text": [
            "주어진 리스트는 : [4, 23, 49, 12, 30, 48, 32, 12, 4]\n",
            "가장 큰 수를 마지막으로 옮긴 결과 : [4, 23, 4, 12, 30, 48, 32, 12, 49]\n"
          ],
          "name": "stdout"
        }
      ]
    },
    {
      "cell_type": "code",
      "metadata": {
        "colab": {
          "base_uri": "https://localhost:8080/"
        },
        "id": "EW3o3P5ffYxY",
        "outputId": "d4b8aa49-3c4d-4628-f686-9d22a5f4657b"
      },
      "source": [
        "# 6.12 다른 풀이\n",
        "lists = [4, 23, 49, 12, 30, 48, 32, 12, 4]\n",
        "print('주어진 리스트는 :', lists)\n",
        "\n",
        "# index로 리스트 접근하는 방법 사용\n",
        "# 다른 풀이 : for i in lists 사용\n",
        "for i in range(len(lists) -1) :\n",
        "    # 왼쪽에 있는 값이 더 크다면?\n",
        "    if lists[i] > lists[i+1] :\n",
        "        # 두 값을 바꾼다. (swap 한다.)\n",
        "        lists[i+1], lists[i] = (lists[i], lists[i+1])  \n",
        "\n",
        "print(lists)"
      ],
      "execution_count": 21,
      "outputs": [
        {
          "output_type": "stream",
          "text": [
            "주어진 리스트는 : [4, 23, 49, 12, 30, 48, 32, 12, 4]\n",
            "[4, 23, 12, 30, 48, 32, 12, 4, 49]\n"
          ],
          "name": "stdout"
        }
      ]
    },
    {
      "cell_type": "code",
      "metadata": {
        "colab": {
          "base_uri": "https://localhost:8080/"
        },
        "id": "2NCP1AL1hl9k",
        "outputId": "90f74243-9737-4a21-cd35-b9ebdd1b0bc9"
      },
      "source": [
        "# 6.13\n",
        "# 6.14 : 리스트 슬라이싱 이용\n",
        "lists = [4, 23, 49, 12, 30, 48, 32, 12, 4]\n",
        "print('주어진 리스트는 :', lists)\n",
        "\n",
        "for j in range(len(lists), 1, -1) :\n",
        "    for i in range(0, j-1, 1) :\n",
        "        # 왼쪽에 있는 값이 더 크다면?\n",
        "        if lists[i] > lists[i+1] :\n",
        "            # 두 값을 바꾼다. (swap 한다)\n",
        "            lists[i+1], lists[i] = (lists[i], lists[i+1])\n",
        "#   print(lists)\n",
        "    # 정렬이 된 부분 : 맨 마지막 부분\n",
        "    # 정렬이 안된 부분 : 0 ~ 맨 마지막 부분을 제외한 부분\n",
        "    print(lists[0 : j-1], end = ', ')   # 정렬이 안된 부분\n",
        "    print(lists[j-1 :]) # 정렬이 된 부분\n",
        "print(lists)"
      ],
      "execution_count": 25,
      "outputs": [
        {
          "output_type": "stream",
          "text": [
            "주어진 리스트는 : [4, 23, 49, 12, 30, 48, 32, 12, 4]\n",
            "[4, 23, 12, 30, 48, 32, 12, 4], [49]\n",
            "[4, 12, 23, 30, 32, 12, 4], [48, 49]\n",
            "[4, 12, 23, 30, 12, 4], [32, 48, 49]\n",
            "[4, 12, 23, 12, 4], [30, 32, 48, 49]\n",
            "[4, 12, 12, 4], [23, 30, 32, 48, 49]\n",
            "[4, 12, 4], [12, 23, 30, 32, 48, 49]\n",
            "[4, 4], [12, 12, 23, 30, 32, 48, 49]\n",
            "[4], [4, 12, 12, 23, 30, 32, 48, 49]\n",
            "[4, 4, 12, 12, 23, 30, 32, 48, 49]\n"
          ],
          "name": "stdout"
        }
      ]
    },
    {
      "cell_type": "code",
      "metadata": {
        "colab": {
          "base_uri": "https://localhost:8080/"
        },
        "id": "Ys6BEXVNiJcK",
        "outputId": "70b6a0c8-1084-4233-af79-f20130d0bca7"
      },
      "source": [
        "# 연습문제 6.24 암호 문제\n",
        "# (1)\n",
        "import string\n",
        "src_str = string.ascii_uppercase\n",
        "print(src_str)\n",
        "\n",
        "dst_str = src_str[3:] + src_str[0:3]\n",
        "print(dst_str)\n",
        "\n",
        "# (2) 리스트 이름.index('찾고자 하는 값', '시작 지점', '끝 지점') >> 찾고자 하는 값이 어느 위치에 있는가\n",
        "A_index = src_str.index('A')\n",
        "print('src_str의 A 인덱스 :', A_index)\n",
        "print('dst_str의 0번째 알파벳 :', dst_str[0])\n",
        "\n",
        "B_index = src_str.index('B')\n",
        "print('src_str의 B 인덱서 :', B_index)\n",
        "print('dst_str의 1번째 알파벳 :', dst_str[1])\n"
      ],
      "execution_count": 34,
      "outputs": [
        {
          "output_type": "stream",
          "text": [
            "ABCDEFGHIJKLMNOPQRSTUVWXYZ\n",
            "DEFGHIJKLMNOPQRSTUVWXYZABC\n",
            "src_str의 A 인덱스 : 0\n",
            "dst_str의 0번째 알파벳 : D\n",
            "src_str의 B 인덱서 : 1\n",
            "dst_str의 1번째 알파벳 : E\n"
          ],
          "name": "stdout"
        }
      ]
    },
    {
      "cell_type": "code",
      "metadata": {
        "colab": {
          "base_uri": "https://localhost:8080/",
          "height": 255
        },
        "id": "S-iIew6ilFvA",
        "outputId": "3a32b0cc-3d3a-482d-887c-54e1f4885af7"
      },
      "source": [
        "# (3)\n",
        "def ciper(a) :\n",
        "    ans_str = ''\n",
        "    for i in range(len(a)) :\n",
        "        a_index = src_str.index(a[i])\n",
        "        print('src_str의 {} 인덱스 : {}'.format(a[i], a_index))\n",
        "        print('dst_str의 {}번째 알파벳 : {}'.format(a_index, dst_str[a_index]))\n",
        "        ans_str += dst_str[a_index]\n",
        "\n",
        "    print('암호화된 문장', ans_str)\n",
        "    return ans_str\n",
        "\n",
        "ciper('ATTACK')"
      ],
      "execution_count": 36,
      "outputs": [
        {
          "output_type": "stream",
          "text": [
            "src_str의 A 인덱스 : 0\n",
            "dst_str의 0번째 알파벳 : D\n",
            "src_str의 T 인덱스 : 19\n",
            "dst_str의 19번째 알파벳 : W\n",
            "src_str의 T 인덱스 : 19\n",
            "dst_str의 19번째 알파벳 : W\n",
            "src_str의 A 인덱스 : 0\n",
            "dst_str의 0번째 알파벳 : D\n",
            "src_str의 C 인덱스 : 2\n",
            "dst_str의 2번째 알파벳 : F\n",
            "src_str의 K 인덱스 : 10\n",
            "dst_str의 10번째 알파벳 : N\n",
            "암호화된 문장 DWWDFN\n"
          ],
          "name": "stdout"
        },
        {
          "output_type": "execute_result",
          "data": {
            "application/vnd.google.colaboratory.intrinsic+json": {
              "type": "string"
            },
            "text/plain": [
              "'DWWDFN'"
            ]
          },
          "metadata": {
            "tags": []
          },
          "execution_count": 36
        }
      ]
    },
    {
      "cell_type": "code",
      "metadata": {
        "colab": {
          "base_uri": "https://localhost:8080/"
        },
        "id": "MbFlFAr2nL5z",
        "outputId": "57fc97cd-2542-4720-a6dc-3b609de1ab41"
      },
      "source": [
        "# (4)\n",
        "# src_str > dst_str (암호화)\n",
        "\n",
        "src_str = string.ascii_uppercase\n",
        "print(src_str)\n",
        "\n",
        "dst_str = src_str[3:] + src_str[0:3]\n",
        "print(dst_str)\n",
        "\n",
        "# dst_str > src_str (해독)\n",
        "unlock_str = dst_str[-3:] + dst_str[:-3]\n",
        "print(unlock_str)\n",
        "\n",
        "input_str = 'DWWDFN WRQLJKW!'\n",
        "ans_str = ''\n",
        "for i in range(len(input_str)) :\n",
        "    # 지금 내가 보고 있는 부분이 알파벳인가?\n",
        "    if input_str[i].isalpha() : \n",
        "        a_index = dst_str.index(input_str[i])\n",
        "        print('src_str의 {} 인덱스 : {}'.format(input_str[i], a_index))\n",
        "        print('dst_str의 {}번째 알파벳 : {}'.format(a_index, src_str[a_index]))\n",
        "        ans_str += src_str[a_index]\n",
        "\n",
        "    else : \n",
        "        ans_str += input_str[i]\n",
        "\n",
        "print('해독된 문장', ans_str)"
      ],
      "execution_count": 49,
      "outputs": [
        {
          "output_type": "stream",
          "text": [
            "ABCDEFGHIJKLMNOPQRSTUVWXYZ\n",
            "DEFGHIJKLMNOPQRSTUVWXYZABC\n",
            "ABCDEFGHIJKLMNOPQRSTUVWXYZ\n",
            "src_str의 D 인덱스 : 0\n",
            "dst_str의 0번째 알파벳 : A\n",
            "src_str의 W 인덱스 : 19\n",
            "dst_str의 19번째 알파벳 : T\n",
            "src_str의 W 인덱스 : 19\n",
            "dst_str의 19번째 알파벳 : T\n",
            "src_str의 D 인덱스 : 0\n",
            "dst_str의 0번째 알파벳 : A\n",
            "src_str의 F 인덱스 : 2\n",
            "dst_str의 2번째 알파벳 : C\n",
            "src_str의 N 인덱스 : 10\n",
            "dst_str의 10번째 알파벳 : K\n",
            "src_str의 W 인덱스 : 19\n",
            "dst_str의 19번째 알파벳 : T\n",
            "src_str의 R 인덱스 : 14\n",
            "dst_str의 14번째 알파벳 : O\n",
            "src_str의 Q 인덱스 : 13\n",
            "dst_str의 13번째 알파벳 : N\n",
            "src_str의 L 인덱스 : 8\n",
            "dst_str의 8번째 알파벳 : I\n",
            "src_str의 J 인덱스 : 6\n",
            "dst_str의 6번째 알파벳 : G\n",
            "src_str의 K 인덱스 : 7\n",
            "dst_str의 7번째 알파벳 : H\n",
            "src_str의 W 인덱스 : 19\n",
            "dst_str의 19번째 알파벳 : T\n",
            "해독된 문장 ATTACK TONIGHT!\n"
          ],
          "name": "stdout"
        }
      ]
    }
  ]
}