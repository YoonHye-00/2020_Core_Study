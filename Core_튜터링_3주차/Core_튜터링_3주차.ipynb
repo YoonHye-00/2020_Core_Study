{
  "nbformat": 4,
  "nbformat_minor": 0,
  "metadata": {
    "colab": {
      "name": "Core_튜터링_3주차",
      "provenance": []
    },
    "kernelspec": {
      "name": "python3",
      "display_name": "Python 3"
    }
  },
  "cells": [
    {
      "cell_type": "markdown",
      "metadata": {
        "id": "n1o1NswYHDqa"
      },
      "source": [
        "백준 2438 - 별 찍기 1"
      ]
    },
    {
      "cell_type": "code",
      "metadata": {
        "id": "h_ybCPbQ_Vdg",
        "outputId": "d042d71b-fc0e-4bda-bde3-aca6626ddaf6",
        "colab": {
          "base_uri": "https://localhost:8080/",
          "height": 118
        }
      },
      "source": [
        "n = int(input())\n",
        "\n",
        "st = ''\n",
        "for i in range(1,n+1) :\n",
        "  st='*'*i\n",
        "  print(st)"
      ],
      "execution_count": 1,
      "outputs": [
        {
          "output_type": "stream",
          "text": [
            "5\n",
            "*\n",
            "**\n",
            "***\n",
            "****\n",
            "*****\n"
          ],
          "name": "stdout"
        }
      ]
    },
    {
      "cell_type": "markdown",
      "metadata": {
        "id": "Y6ohZRxbHB-5"
      },
      "source": [
        "백준 2439 - 별 찍기 2"
      ]
    },
    {
      "cell_type": "code",
      "metadata": {
        "id": "O3GMnEjiG0AZ",
        "outputId": "5983e848-75f3-45db-fded-10785c82181e",
        "colab": {
          "base_uri": "https://localhost:8080/",
          "height": 118
        }
      },
      "source": [
        "n = int(input())\n",
        "\n",
        "st=''\n",
        "for i in range(1,n+1) :\n",
        "  s='*'*i\n",
        "  b=''\n",
        "  for j in range(n-i) :\n",
        "    b += ' '\n",
        "  print(b,s,sep='')\n",
        "  "
      ],
      "execution_count": 2,
      "outputs": [
        {
          "output_type": "stream",
          "text": [
            "5\n",
            "    *\n",
            "   **\n",
            "  ***\n",
            " ****\n",
            "*****\n"
          ],
          "name": "stdout"
        }
      ]
    },
    {
      "cell_type": "markdown",
      "metadata": {
        "id": "NJk-QMoaIsKI"
      },
      "source": [
        "백준 1259 - 팰린드롬수"
      ]
    },
    {
      "cell_type": "code",
      "metadata": {
        "id": "dhxllaLgIGYK",
        "outputId": "d33c8455-869a-4a0c-cd87-c091d75b2c1f",
        "colab": {
          "base_uri": "https://localhost:8080/",
          "height": 101
        }
      },
      "source": [
        "while True :\n",
        "  #입력받는 정수\n",
        "  a = int(input())\n",
        "\n",
        "  #리스트를 만듦\n",
        "  lists = []\n",
        "\n",
        "  if a == 0 :\n",
        "    break \n",
        "  else :\n",
        "    # 팰린드롬수인지 아닌지 판단 >> 나머지 연산 이용\n",
        "    counts = 0\n",
        "    while a != 0 :\n",
        "      b = a % 10        # 맨 끝자리 수가 나온다\n",
        "      lists.append(b)   # 리스트 안에 방금 구한 끝자리 수를 넣는다\n",
        "      a = a // 10       # a를 10으로 나눈 몫을 구해준다\n",
        "      counts += 1\n",
        "    # print(lists)\n",
        "    \n",
        "    sw = 0\n",
        "    for i in range(0, int(counts/2), 1) :\n",
        "      if lists[i] != lists[counts-1-i] :\n",
        "        sw = 1\n",
        "        print('no')\n",
        "        break\n",
        "\n",
        "    if sw == 0 :\n",
        "      print('yes')"
      ],
      "execution_count": 5,
      "outputs": [
        {
          "output_type": "stream",
          "text": [
            "123\n",
            "no\n",
            "12321\n",
            "yes\n",
            "0\n"
          ],
          "name": "stdout"
        }
      ]
    },
    {
      "cell_type": "markdown",
      "metadata": {
        "id": "Ji3-8zXRRYE3"
      },
      "source": [
        "백준 10988 - 팰린드롬 확인하기"
      ]
    },
    {
      "cell_type": "code",
      "metadata": {
        "id": "1iHHB2XEKw0v",
        "outputId": "51d81bed-5655-4adc-f696-c871cb374732",
        "colab": {
          "base_uri": "https://localhost:8080/",
          "height": 51
        }
      },
      "source": [
        "#len() 이용\n",
        "\n",
        "a = input()\n",
        "\n",
        "sizes = int(len(a)/2)\n",
        "\n",
        "sw = 0\n",
        "for i in range(0,sizes,1) :\n",
        "  if a[i] != a[len(a)-1-i] :\n",
        "    print(0)\n",
        "    sw = 1\n",
        "    break\n",
        "\n",
        "if sw == 0 :\n",
        "  print(1)"
      ],
      "execution_count": 7,
      "outputs": [
        {
          "output_type": "stream",
          "text": [
            "level\n",
            "1\n"
          ],
          "name": "stdout"
        }
      ]
    },
    {
      "cell_type": "markdown",
      "metadata": {
        "id": "bg-eKlNOTQSw"
      },
      "source": [
        "#함수 알아보기"
      ]
    },
    {
      "cell_type": "code",
      "metadata": {
        "id": "muGVTVBzTTOU"
      },
      "source": [
        "# def : 함수 선언\n",
        "def solve(lists) :     #lists : 매개 변수\n",
        "  sum = 0\n",
        "  for i in lists :     #lists 안에 있는 수들의 합\n",
        "    sum+=i\n",
        "  \n",
        "  return sum  #함수를 통해 구한 값을 리턴함"
      ],
      "execution_count": 9,
      "outputs": []
    },
    {
      "cell_type": "code",
      "metadata": {
        "id": "c6kyYxJ8Uu4o",
        "outputId": "9c14eb65-8bf3-4d3b-dd8e-6968dacc2ae2",
        "colab": {
          "base_uri": "https://localhost:8080/",
          "height": 34
        }
      },
      "source": [
        "#함수 사용(호출)\n",
        "\n",
        "lists = [1,2,3,4,5,6]\n",
        "solve(lists)    #solve 함수 사용. 함수를 사용할 때는 안에 인자를 넣을 수도 있다.     "
      ],
      "execution_count": 12,
      "outputs": [
        {
          "output_type": "execute_result",
          "data": {
            "text/plain": [
              "21"
            ]
          },
          "metadata": {
            "tags": []
          },
          "execution_count": 12
        }
      ]
    },
    {
      "cell_type": "code",
      "metadata": {
        "id": "hG7shAmVUzT4",
        "outputId": "cd2c910d-9f41-478a-a1fc-dfffe26a453d",
        "colab": {
          "base_uri": "https://localhost:8080/",
          "height": 51
        }
      },
      "source": [
        "#이중 리스트\n",
        "\n",
        "lists = [[1,2,3,4,5,6],[1,2]]\n",
        "\n",
        "for i in lists :\n",
        "  print(solve(i))"
      ],
      "execution_count": 13,
      "outputs": [
        {
          "output_type": "stream",
          "text": [
            "21\n",
            "3\n"
          ],
          "name": "stdout"
        }
      ]
    },
    {
      "cell_type": "code",
      "metadata": {
        "id": "6cwWMA3PXV_y",
        "outputId": "9b508eb9-0c6f-4587-cad3-13523d6e5326",
        "colab": {
          "base_uri": "https://localhost:8080/",
          "height": 236
        }
      },
      "source": [
        "A = int(input())\n",
        "B = int(input())\n",
        "C = int(input())\n",
        "\n",
        "x = A*B*C\n",
        "\n",
        "lists = [0,0,0,0,0,0,0,0,0,0]\n",
        "# 맨 처음 자리는 lists[0]\n",
        "# 맨 마지막 자리는 lists[9]\n",
        "\n",
        "x_str = str(x)  #정수 c를 문자열로 바꿈\n",
        "\n",
        "for i in range(0, len(x_str), 1) :\n",
        "  e = int(x_str[i])\n",
        "  lists[e] += 1\n",
        "\n",
        "# print(lists)\n",
        "for i in lists :\n",
        "  print(i)\n"
      ],
      "execution_count": 17,
      "outputs": [
        {
          "output_type": "stream",
          "text": [
            "150\n",
            "266\n",
            "427\n",
            "3\n",
            "1\n",
            "0\n",
            "2\n",
            "0\n",
            "0\n",
            "0\n",
            "2\n",
            "0\n",
            "0\n"
          ],
          "name": "stdout"
        }
      ]
    },
    {
      "cell_type": "code",
      "metadata": {
        "id": "ps81qaNmYWJw"
      },
      "source": [
        ""
      ],
      "execution_count": null,
      "outputs": []
    }
  ]
}