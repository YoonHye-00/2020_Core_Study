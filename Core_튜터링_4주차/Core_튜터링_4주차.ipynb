{
  "nbformat": 4,
  "nbformat_minor": 0,
  "metadata": {
    "colab": {
      "name": "Core_튜터링_4주차",
      "provenance": []
    },
    "kernelspec": {
      "name": "python3",
      "display_name": "Python 3"
    }
  },
  "cells": [
    {
      "cell_type": "markdown",
      "metadata": {
        "id": "SukBGBm3Hcez"
      },
      "source": [
        "백준 2178 : 미로 탐색"
      ]
    },
    {
      "cell_type": "code",
      "metadata": {
        "id": "LrPKG4zXHjQx",
        "outputId": "1768f379-a993-42f4-cac6-9612b19a6bb7",
        "colab": {
          "base_uri": "https://localhost:8080/",
          "height": 34
        }
      },
      "source": [
        "# 1. 게임판 만들기\n",
        "# 가장 기본적인 방법\n",
        "lists = [[0,0,0,0,0],\n",
        "         [0,0,0,0,0],\n",
        "         [0,0,1,0,0],\n",
        "         [0,0,0,0,0],\n",
        "         [0,0,0,0,0]]\n",
        "\n",
        "print(lists)"
      ],
      "execution_count": 1,
      "outputs": [
        {
          "output_type": "stream",
          "text": [
            "[[0, 0, 0, 0, 0], [0, 0, 0, 0, 0], [0, 0, 1, 0, 0], [0, 0, 0, 0, 0], [0, 0, 0, 0, 0]]\n"
          ],
          "name": "stdout"
        }
      ]
    },
    {
      "cell_type": "code",
      "metadata": {
        "id": "NY16RTnXMRch"
      },
      "source": [
        "# 이중 리스트를 이중 리스트답게 출력하는 함수 만들기\n",
        "def print_doublelist(lists) :\n",
        "  print('이중 리스트를 출력합니다.')\n",
        "  for i in range(0,5,1) :\n",
        "    for j in range(0,5,1) :\n",
        "      print(lists[i][j], end =' ')\n",
        "    print()    \n",
        "  print('이중 리스트의 출력이 끝났습니다.')\n",
        "  print()"
      ],
      "execution_count": 44,
      "outputs": []
    },
    {
      "cell_type": "code",
      "metadata": {
        "id": "nHr8J7B7Nrfc",
        "outputId": "dbed4f8b-8fb9-419f-95ad-347fb6ae0167",
        "colab": {
          "base_uri": "https://localhost:8080/",
          "height": 152
        }
      },
      "source": [
        "print_doublelist(lists)"
      ],
      "execution_count": 45,
      "outputs": [
        {
          "output_type": "stream",
          "text": [
            "이중 리스트를 출력합니다.\n",
            "0 0 0 0 0 \n",
            "0 0 1 0 0 \n",
            "0 0 0 0 0 \n",
            "0 0 0 0 0 \n",
            "0 0 0 0 0 \n",
            "이중 리스트의 출력이 끝났습니다.\n",
            "\n"
          ],
          "name": "stdout"
        }
      ]
    },
    {
      "cell_type": "code",
      "metadata": {
        "id": "2XjpTsnKHwvo",
        "outputId": "0421a0c9-bde1-4a28-8e8e-f167c2d913f2",
        "colab": {
          "base_uri": "https://localhost:8080/",
          "height": 287
        }
      },
      "source": [
        "# 이중 for문과 append를 이용하는 방법\n",
        "lists=[]\n",
        "for i in range(0,5,1) :\n",
        "  a = []\n",
        "  for j in range(0,5,1) :\n",
        "    a.append(0)\n",
        "  lists.append(a)\n",
        "\n",
        "print_doublelist(lists)\n",
        "\n",
        "lists[2][2] = 1\n",
        "print_doublelist(lists)"
      ],
      "execution_count": 46,
      "outputs": [
        {
          "output_type": "stream",
          "text": [
            "이중 리스트를 출력합니다.\n",
            "0 0 0 0 0 \n",
            "0 0 0 0 0 \n",
            "0 0 0 0 0 \n",
            "0 0 0 0 0 \n",
            "0 0 0 0 0 \n",
            "이중 리스트의 출력이 끝났습니다.\n",
            "\n",
            "이중 리스트를 출력합니다.\n",
            "0 0 0 0 0 \n",
            "0 0 0 0 0 \n",
            "0 0 1 0 0 \n",
            "0 0 0 0 0 \n",
            "0 0 0 0 0 \n",
            "이중 리스트의 출력이 끝났습니다.\n",
            "\n"
          ],
          "name": "stdout"
        }
      ]
    },
    {
      "cell_type": "code",
      "metadata": {
        "id": "TqkkuchERto2"
      },
      "source": [
        "# 이중 리스트를 초기화하는 함수 만들기\n",
        "# 초기화 하면\n",
        "# 0 0 0 0 0\n",
        "# 0 0 0 0 0\n",
        "# 0 0 1 0 0\n",
        "# 0 0 0 0 0\n",
        "# 0 0 0 0 0\n",
        "\n",
        "\n",
        "def default_doublelist(lists) :\n",
        "  lists = []\n",
        "  for i in range(0,5,1) :\n",
        "    a = []\n",
        "    for j in range(0,5,1) :\n",
        "      a.append(0)\n",
        "    lists.append(a)\n",
        "\n",
        "  lists[2][2] = 1\n",
        "\n",
        "  print_doublelist(lists)\n",
        "\n",
        "  return lists\n"
      ],
      "execution_count": 54,
      "outputs": []
    },
    {
      "cell_type": "code",
      "metadata": {
        "id": "emXkuGI-SjPY",
        "outputId": "dbec72e1-734e-4b2f-c648-e2367a757fa6",
        "colab": {
          "base_uri": "https://localhost:8080/",
          "height": 287
        }
      },
      "source": [
        "lists = default_doublelist(lists)\n",
        "print_doublelist(lists)"
      ],
      "execution_count": 73,
      "outputs": [
        {
          "output_type": "stream",
          "text": [
            "이중 리스트를 출력합니다.\n",
            "0 0 0 0 0 \n",
            "0 0 0 0 0 \n",
            "0 0 1 0 0 \n",
            "0 0 0 0 0 \n",
            "0 0 0 0 0 \n",
            "이중 리스트의 출력이 끝났습니다.\n",
            "\n",
            "이중 리스트를 출력합니다.\n",
            "0 0 0 0 0 \n",
            "0 0 0 0 0 \n",
            "0 0 1 0 0 \n",
            "0 0 0 0 0 \n",
            "0 0 0 0 0 \n",
            "이중 리스트의 출력이 끝났습니다.\n",
            "\n"
          ],
          "name": "stdout"
        }
      ]
    },
    {
      "cell_type": "code",
      "metadata": {
        "id": "897kzlCjIN3L",
        "outputId": "90a523cd-00e2-436e-ac7f-a59c2cea9915",
        "colab": {
          "base_uri": "https://localhost:8080/",
          "height": 321
        }
      },
      "source": [
        "# 2. 움직이는 것을 구현\n",
        "# 내가 지금 있는 위치를 표시 > (y,x)\n",
        "y=2\n",
        "x=2\n",
        "\n",
        "# lists 초기화\n",
        "lists = default_doublelist(lists)\n",
        "\n",
        "dir = input('방향을 입력하세요 : ')\n",
        "\n",
        "# lists 업데이트 : 이동하기 전 위치의 좌표는 0으로 만든다\n",
        "lists[y][x] = 0\n",
        "\n",
        "# 왼쪽으로 1칸 간다면? (2,2) > (2,1)\n",
        "if dir == '왼쪽' :\n",
        "  x = x-1\n",
        "\n",
        "# 오른쪽으로 1칸 간다면? (2,2) > (2,3)\n",
        "elif dir == '오른쪽' :\n",
        "  x = x+1\n",
        "\n",
        "# 위로 1칸 간다면? (2,2) > (1,2)\n",
        "elif dir == '위쪽' :\n",
        "  y = y-1\n",
        "\n",
        "# 아래로 1칸 간다면? (2,2) > (3,2)\n",
        "elif dir == '아래쪽' :\n",
        "  y = y+1\n",
        "\n",
        "print(y, x)\n",
        "\n",
        "lists[y][x] = 1\n",
        "\n",
        "print_doublelist(lists)\n"
      ],
      "execution_count": 69,
      "outputs": [
        {
          "output_type": "stream",
          "text": [
            "이중 리스트를 출력합니다.\n",
            "0 0 0 0 0 \n",
            "0 0 0 0 0 \n",
            "0 0 1 0 0 \n",
            "0 0 0 0 0 \n",
            "0 0 0 0 0 \n",
            "이중 리스트의 출력이 끝났습니다.\n",
            "\n",
            "방향을 입력하세요 : 아래쪽\n",
            "3 2\n",
            "이중 리스트를 출력합니다.\n",
            "0 0 0 0 0 \n",
            "0 0 0 0 0 \n",
            "0 0 0 0 0 \n",
            "0 0 1 0 0 \n",
            "0 0 0 0 0 \n",
            "이중 리스트의 출력이 끝났습니다.\n",
            "\n"
          ],
          "name": "stdout"
        }
      ]
    },
    {
      "cell_type": "code",
      "metadata": {
        "id": "-634eDu3evvb"
      },
      "source": [
        "# 테두리에 닿았다면?\n",
        "# 끝까지 왔는데 그 방향으로 또 간다고 하면 못가게 막음\n",
        "\n",
        "def check(dir, y, x) :\n",
        "  # 현재 좌표가 테두리를 벗어난다면\n",
        "  if x < 0 or x > 4 or y < 0 or y > 4 :\n",
        "    # 다시 고쳐주고\n",
        "    if dir == '왼쪽' :\n",
        "      x=0\n",
        "    elif dir == '오른쪽' :\n",
        "      x=4\n",
        "    elif dir == '위쪽' :\n",
        "      y=0\n",
        "    elif dir == '아래쪽' :\n",
        "      y=4\n",
        "\n",
        "    # 사용자에게 알려줌\n",
        "    print('더 이상 {}으로 갈 수 없습니다.'.format(dir))\n",
        "  \n",
        "  # 그리고 그 좌표를 리턴한다\n",
        "  return y, x"
      ],
      "execution_count": 78,
      "outputs": []
    },
    {
      "cell_type": "code",
      "metadata": {
        "id": "3QlxTcfALv9n",
        "outputId": "0bc353f7-6ef9-43d1-f7ef-7e6f25ad0ef6",
        "colab": {
          "base_uri": "https://localhost:8080/",
          "height": 692
        }
      },
      "source": [
        "# 3. 여러 동작 수행하기\n",
        "\n",
        "# lists 초기화\n",
        "lists = default_doublelist(lists)\n",
        "\n",
        "x=2\n",
        "y=2\n",
        "\n",
        "while True :\n",
        "  dir = input(\"방향을 입력하세요(그만하시고 싶으시면 '그만'이라고 입력하세요) : \")\n",
        "\n",
        "  # lists 업데이트 : 이동하기 전 위치의 좌표는 0으로 만든다\n",
        "  lists[y][x] = 0\n",
        "\n",
        "  # 왼쪽으로 1칸 간다면? (2,2) > (2,1)\n",
        "  if dir == '왼쪽' :\n",
        "    x = x-1\n",
        "    y, x = check(dir, y, x)\n",
        "    # 테두리에 닿았다면?\n",
        "    #if x < 0 :\n",
        "      #x=0\n",
        "      #print('더 이상 왼쪽으로 갈 수 없습니다. ')\n",
        "\n",
        "  # 오른쪽으로 1칸 간다면? (2,2) > (2,3)\n",
        "  elif dir == '오른쪽' :\n",
        "    x = x+1\n",
        "    y, x = check(dir, y, x)\n",
        "    #if x > 4 :\n",
        "      #x=4 \n",
        "      #print('더 이상 오른쪽으로 갈 수 없습니다. ')\n",
        "\n",
        "  # 위로 1칸 간다면? (2,2) > (1,2)\n",
        "  elif dir == '위쪽' :\n",
        "    y = y-1\n",
        "    y, x = check(dir, y, x)\n",
        "    #if y < 0 :\n",
        "      #y=0\n",
        "      #print('더 이상 위쪽으로 갈 수 없습니다. ')\n",
        "\n",
        "  # 아래로 1칸 간다면? (2,2) > (3,2)\n",
        "  elif dir == '아래쪽' :\n",
        "    y = y+1\n",
        "    y, x = check(dir, y, x)\n",
        "    #if y > 4 :\n",
        "      #y=4\n",
        "      #print('더 이상 아래쪽으로 갈 수 없습니다. ')\n",
        "\n",
        "  elif dir == '그만' :\n",
        "    break\n",
        "  \n",
        "  print(y,x)\n",
        "\n",
        "  # lists 업데이트 : 이동한 후의 좌표는 1로 만든다\n",
        "  lists[y][x] = 1\n",
        "\n",
        "  print_doublelist(lists)\n"
      ],
      "execution_count": 79,
      "outputs": [
        {
          "output_type": "stream",
          "text": [
            "이중 리스트를 출력합니다.\n",
            "0 0 0 0 0 \n",
            "0 0 0 0 0 \n",
            "0 0 1 0 0 \n",
            "0 0 0 0 0 \n",
            "0 0 0 0 0 \n",
            "이중 리스트의 출력이 끝났습니다.\n",
            "\n",
            "방향을 입력하세요(그만하시고 싶으시면 '그만'이라고 입력하세요) : 오른쪽\n",
            "2 3\n",
            "이중 리스트를 출력합니다.\n",
            "0 0 0 0 0 \n",
            "0 0 0 0 0 \n",
            "0 0 0 1 0 \n",
            "0 0 0 0 0 \n",
            "0 0 0 0 0 \n",
            "이중 리스트의 출력이 끝났습니다.\n",
            "\n",
            "방향을 입력하세요(그만하시고 싶으시면 '그만'이라고 입력하세요) : 오른쪽\n",
            "2 4\n",
            "이중 리스트를 출력합니다.\n",
            "0 0 0 0 0 \n",
            "0 0 0 0 0 \n",
            "0 0 0 0 1 \n",
            "0 0 0 0 0 \n",
            "0 0 0 0 0 \n",
            "이중 리스트의 출력이 끝났습니다.\n",
            "\n",
            "방향을 입력하세요(그만하시고 싶으시면 '그만'이라고 입력하세요) : 오른쪽\n",
            "더 이상 오른쪽으로 갈 수 없습니다.\n",
            "2 4\n",
            "이중 리스트를 출력합니다.\n",
            "0 0 0 0 0 \n",
            "0 0 0 0 0 \n",
            "0 0 0 0 1 \n",
            "0 0 0 0 0 \n",
            "0 0 0 0 0 \n",
            "이중 리스트의 출력이 끝났습니다.\n",
            "\n",
            "방향을 입력하세요(그만하시고 싶으시면 '그만'이라고 입력하세요) : 그만\n"
          ],
          "name": "stdout"
        }
      ]
    }
  ]
}