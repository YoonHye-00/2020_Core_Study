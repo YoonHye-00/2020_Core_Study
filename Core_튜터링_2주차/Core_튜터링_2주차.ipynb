{
  "nbformat": 4,
  "nbformat_minor": 0,
  "metadata": {
    "colab": {
      "name": "Untitled6.ipynb",
      "provenance": []
    },
    "kernelspec": {
      "name": "python3",
      "display_name": "Python 3"
    }
  },
  "cells": [
    {
      "cell_type": "markdown",
      "metadata": {
        "id": "29FeMFfMBa6_"
      },
      "source": [
        "오늘의 목표\n",
        "- 백준 15953번 상금 헌터 (카카오 코드 페스티벌 2018 1번 문제) 문제 풀기\n",
        "\n",
        "오늘 배울 사항\n",
        "- 파이썬으로 입출력하는 기본적인 방법에 대해 알 수 있다. (input함수 파헤치기)\n",
        "- 파이썬으로 조건문(if ~ else / if ~ elif ~ else)을 작성할 수 있다.\n",
        "- 파이썬으로 반복문(for / while)을 작성하고 \n",
        "  어느 상황에 for문을 쓰는지, 어느 상황에 while문을 쓰는 것이 좋은지 말할 수 있다. \n",
        "  (면접 \"기본\" 문제 - \"기본기의 중요성\"이죠. 그러나 뚜렷한 정답은 없습니다.\n",
        "   자기 생각/경험을 어떻게 잘 말하는지가 핵심!)\n",
        "- 파이썬으로 리스트를 작성해보고 왜 리스트를 써야 하는지 말할 수 있다.\n",
        "\n",
        "기본기 다지기\n",
        "- 백준 1000번 A + B \t\t: int를 2개 받는 방법\n",
        "- 백준 1330번 두 수 비교하기 \t: if ~ elif ~ else문 사용해 보기\n",
        "- 백준 8393번 합\t\t\t: for문 사용해보기 / for문을 안쓰고 푸는 방법?\n",
        "- 백준 10952 A+B - 5\t\t: while문 사용해보기\n",
        "- 백준 10871 X보다 작은 수 \t\t: 리스트 사용해보기\n",
        "\n",
        "실전 문제\n",
        "- 백준 14681 사분면 고르기 (Canadian Computing Competition > 2017 Junior Division 1번 문제)\n",
        "- 백준 8958 OX퀴즈 (ICPC > Asia Regional > Seoul 2005 > A번 문제)\n",
        "- 백준 2577 숫자의 개수 (한국정보올림피아드 > 지역본선 2006 > 초등부 2번 문제)\n",
        "- 백준 15953 상금 헌터 (카카오 코드 페스티벌 2018 > 1번 문제)\n",
        "\n"
      ]
    },
    {
      "cell_type": "code",
      "metadata": {
        "id": "A6aIvhcMBfzz",
        "outputId": "129636e0-15e1-4fb6-88cb-c3bdc267725d",
        "colab": {
          "base_uri": "https://localhost:8080/",
          "height": 51
        }
      },
      "source": [
        "#백준 8393 합\n",
        "n=int(input())\n",
        "sum=0\n",
        "for i in range(1,n+1):\n",
        "  sum+=i\n",
        "\n",
        "print(sum)"
      ],
      "execution_count": 4,
      "outputs": [
        {
          "output_type": "stream",
          "text": [
            "3\n",
            "6\n"
          ],
          "name": "stdout"
        }
      ]
    },
    {
      "cell_type": "code",
      "metadata": {
        "id": "2EDF-fzGFUwg"
      },
      "source": [
        "#8393번 for문 안 쓰고 풀기\n",
        "a=int(input())\n",
        "sum=a*(a+1)/2\n",
        "print(int(sum))"
      ],
      "execution_count": null,
      "outputs": []
    },
    {
      "cell_type": "code",
      "metadata": {
        "id": "JRYpltEyFZko"
      },
      "source": [
        "#백준 1000\n",
        "a, b=map(int, input().split(' '))\n",
        "print(a+b)"
      ],
      "execution_count": null,
      "outputs": []
    },
    {
      "cell_type": "code",
      "metadata": {
        "id": "WX6VEpCOJbjU",
        "outputId": "44183191-9e9c-4ce1-a076-1248d62a2dc8",
        "colab": {
          "base_uri": "https://localhost:8080/",
          "height": 51
        }
      },
      "source": [
        "#1000번 문제 다시 풀어보기\n",
        "\n",
        "l=[int(x) for x in input().split()]\n",
        "\n",
        "sum=0\n",
        "for x in l :\n",
        "  sum+=x\n",
        "\n",
        "print(sum)"
      ],
      "execution_count": 5,
      "outputs": [
        {
          "output_type": "stream",
          "text": [
            "1 2\n",
            "3\n"
          ],
          "name": "stdout"
        }
      ]
    },
    {
      "cell_type": "code",
      "metadata": {
        "id": "GGjl1BeiPP0L",
        "outputId": "d944d882-f485-4169-dfd4-651a2f3fc3a5",
        "colab": {
          "base_uri": "https://localhost:8080/",
          "height": 51
        }
      },
      "source": [
        "#백준 1330\n",
        "a, b=map(int, input().split())\n",
        "\n",
        "if a>b :\n",
        "  print('>')\n",
        "elif a<b :\n",
        "  print('<')\n",
        "else :\n",
        "  print('==')"
      ],
      "execution_count": 6,
      "outputs": [
        {
          "output_type": "stream",
          "text": [
            "1 2\n",
            "<\n"
          ],
          "name": "stdout"
        }
      ]
    },
    {
      "cell_type": "code",
      "metadata": {
        "id": "cXDoazW-QDj2",
        "outputId": "7a753136-8702-4747-f49e-95c625e5730f",
        "colab": {
          "base_uri": "https://localhost:8080/",
          "height": 236
        }
      },
      "source": [
        "# 백준 15953\n",
        "T=int(input())\n",
        "for i in range(0,T,1):\n",
        "  a,b=map(int, input().split())\n",
        "\n",
        "  sum=0\n",
        "  if a==0 :\n",
        "    sum+=0\n",
        "  elif a==1 :\n",
        "    sum+=500\n",
        "  elif a<4 :\n",
        "    sum+=300\n",
        "  elif a<7 :\n",
        "    sum+=200\n",
        "  elif a<11 :\n",
        "    sum+=50\n",
        "  elif a<16 :\n",
        "    sum+=30\n",
        "  elif a<22 :\n",
        "    sum+=10\n",
        "  else :\n",
        "    sum+=0\n",
        "  \n",
        "  if b==0 :\n",
        "    sum+=0\n",
        "  elif b==1 :\n",
        "    sum+=512\n",
        "  elif b<4 :\n",
        "    sum+=256\n",
        "  elif b<8 :\n",
        "    sum+=128\n",
        "  elif b<16 :\n",
        "    sum+=64\n",
        "  elif b<32 :\n",
        "    sum+=32\n",
        "  else :\n",
        "    sum+=0\n",
        "  print(sum*10000)"
      ],
      "execution_count": 8,
      "outputs": [
        {
          "output_type": "stream",
          "text": [
            "6\n",
            "8 4\n",
            "1780000\n",
            "13 19\n",
            "620000\n",
            "8 10\n",
            "1140000\n",
            "18 18\n",
            "420000\n",
            "8 25\n",
            "820000\n",
            "13 16\n",
            "620000\n"
          ],
          "name": "stdout"
        }
      ]
    },
    {
      "cell_type": "code",
      "metadata": {
        "id": "R8UZhlydUgd6",
        "outputId": "7bc270ce-d982-4ed1-ac2c-1fa72e6d07df",
        "colab": {
          "base_uri": "https://localhost:8080/",
          "height": 68
        }
      },
      "source": [
        "#백준 10952\n",
        "a=1\n",
        "b=1\n",
        "while a!=0 and b!=0 :\n",
        "  a, b=map(int, input().split())\n",
        "  if a!=0 and b!=0 :\n",
        "    print(a+b)\n"
      ],
      "execution_count": 9,
      "outputs": [
        {
          "output_type": "stream",
          "text": [
            "1 2\n",
            "3\n",
            "0 0\n"
          ],
          "name": "stdout"
        }
      ]
    },
    {
      "cell_type": "code",
      "metadata": {
        "id": "MU7QBJuRYtbv",
        "outputId": "9e2c9a8b-f722-47cf-c57b-5294a654e073",
        "colab": {
          "base_uri": "https://localhost:8080/",
          "height": 68
        }
      },
      "source": [
        "#10952번 무한루프 이용\n",
        "while True :\n",
        "  a, b=map(int, input().split())\n",
        "  if a!=0 and b!=0 :\n",
        "    print(a+b)\n",
        "  else :\n",
        "    break"
      ],
      "execution_count": 10,
      "outputs": [
        {
          "output_type": "stream",
          "text": [
            "1 2\n",
            "3\n",
            "0 0\n"
          ],
          "name": "stdout"
        }
      ]
    }
  ]
}