{
  "nbformat": 4,
  "nbformat_minor": 0,
  "metadata": {
    "colab": {
      "name": "Core_튜터링_6주차",
      "provenance": [],
      "authorship_tag": "ABX9TyM54T8LsIpHZlEpm6b5QQLw",
      "include_colab_link": true
    },
    "kernelspec": {
      "name": "python3",
      "display_name": "Python 3"
    }
  },
  "cells": [
    {
      "cell_type": "markdown",
      "metadata": {
        "id": "view-in-github",
        "colab_type": "text"
      },
      "source": [
        "<a href=\"https://colab.research.google.com/github/YoonHye-00/2020_Core_Study/blob/main/Core_%ED%8A%9C%ED%84%B0%EB%A7%81_6%EC%A3%BC%EC%B0%A8.ipynb\" target=\"_parent\"><img src=\"https://colab.research.google.com/assets/colab-badge.svg\" alt=\"Open In Colab\"/></a>"
      ]
    },
    {
      "cell_type": "markdown",
      "metadata": {
        "id": "l6viP1YeMqf-"
      },
      "source": [
        "#리스트의 여러가지 성질과 슬라이싱"
      ]
    },
    {
      "cell_type": "code",
      "metadata": {
        "id": "9ijoYKdaMs1h",
        "outputId": "f1884881-8170-49ed-e3c3-ddc25f4d9226",
        "colab": {
          "base_uri": "https://localhost:8080/"
        }
      },
      "source": [
        "# 리스트를 나누는 방법 (슬라이싱)\n",
        "\n",
        "# 0부터 10까지 수가 저장되어 있는 리스트\n",
        "list_c = []\n",
        "for i in range(0,10,1) :\n",
        "    list_c.append(i)\n",
        "print(list_c)\n",
        "\n",
        "# 리스트에 접근하려면..?\n",
        "print(list_c[0])\n",
        "print(list_c[1])\n",
        "print(list_c[2])\n",
        "print(list_c[3])\n",
        "\n",
        "print(list_c[-1])   # 맨 뒷부분의 원소를 가리킨다.\n",
        "print(list_c[-2])\n",
        "print(list_c[-3])\n",
        "print(list_c[-4])\n",
        "print(list_c[-5])\n",
        "print(list_c[-6])\n",
        "print(list_c[-7])\n",
        "print(list_c[-8])\n",
        "print(list_c[-9])\n",
        "print(list_c[-10])  # list_c[0]과 동일\n",
        "# print(list_c[-11]) >> index 오류\n",
        "\n",
        "# 뒤에서부터 출력하는 프로그램\n",
        "for i in range(9,-1,-1) :\n",
        "    print('거꾸로 출력1 :',list_c[i])\n",
        "\n",
        "for i in range(1,11,1) :\n",
        "    print('거꾸로 출력2 :',list_c[i*-1])"
      ],
      "execution_count": 3,
      "outputs": [
        {
          "output_type": "stream",
          "text": [
            "[0, 1, 2, 3, 4, 5, 6, 7, 8, 9]\n",
            "0\n",
            "1\n",
            "2\n",
            "3\n",
            "9\n",
            "8\n",
            "7\n",
            "6\n",
            "5\n",
            "4\n",
            "3\n",
            "2\n",
            "1\n",
            "0\n",
            "거꾸로 출력1 : 9\n",
            "거꾸로 출력1 : 8\n",
            "거꾸로 출력1 : 7\n",
            "거꾸로 출력1 : 6\n",
            "거꾸로 출력1 : 5\n",
            "거꾸로 출력1 : 4\n",
            "거꾸로 출력1 : 3\n",
            "거꾸로 출력1 : 2\n",
            "거꾸로 출력1 : 1\n",
            "거꾸로 출력1 : 0\n",
            "거꾸로 출력2 : 9\n",
            "거꾸로 출력2 : 8\n",
            "거꾸로 출력2 : 7\n",
            "거꾸로 출력2 : 6\n",
            "거꾸로 출력2 : 5\n",
            "거꾸로 출력2 : 4\n",
            "거꾸로 출력2 : 3\n",
            "거꾸로 출력2 : 2\n",
            "거꾸로 출력2 : 1\n",
            "거꾸로 출력2 : 0\n"
          ],
          "name": "stdout"
        }
      ]
    },
    {
      "cell_type": "code",
      "metadata": {
        "id": "s6p5nXkkO5D2",
        "outputId": "d9877f48-c1ca-4bb3-d93b-b5569db6f07a",
        "colab": {
          "base_uri": "https://localhost:8080/"
        }
      },
      "source": [
        "# 리스트를 쪼개보자\n",
        "list_b = [90,'국어점수',80,'수학점수']\n",
        "print(list_b)\n",
        "in1 = list_b[0:2]\n",
        "in2 = list_b[2:]\n",
        "print(in1)\n",
        "print(in2)"
      ],
      "execution_count": 5,
      "outputs": [
        {
          "output_type": "stream",
          "text": [
            "[90, '국어점수', 80, '수학점수']\n",
            "[90, '국어점수']\n",
            "[80, '수학점수']\n"
          ],
          "name": "stdout"
        }
      ]
    },
    {
      "cell_type": "code",
      "metadata": {
        "id": "_wGEtfdfP9AW",
        "outputId": "de506ba4-cdbe-4f49-caac-3746c74b6b28",
        "colab": {
          "base_uri": "https://localhost:8080/"
        }
      },
      "source": [
        "a = [90,'국어점수',80,'수학점수']\n",
        "print(a[0:2])   # a[0] ~ a[1]\n",
        "print(a[:2])    # 처음 ~ a[1]\n",
        "print(a[2:4])   # a[2] ~ a[3]\n",
        "print(a[2:])    # a[2] ~ 끝지점\n",
        "print(a[:])     # 처음지점 ~ 끝지점"
      ],
      "execution_count": 6,
      "outputs": [
        {
          "output_type": "stream",
          "text": [
            "[90, '국어점수']\n",
            "[90, '국어점수']\n",
            "[80, '수학점수']\n",
            "[80, '수학점수']\n",
            "[90, '국어점수', 80, '수학점수']\n"
          ],
          "name": "stdout"
        }
      ]
    },
    {
      "cell_type": "code",
      "metadata": {
        "id": "PPexYz9DRWlt",
        "outputId": "047c2c14-cc8b-4287-e3be-e2ea398d782f",
        "colab": {
          "base_uri": "https://localhost:8080/"
        }
      },
      "source": [
        "print(a[0::2])  # [시작점 :: 숫자] >> 리스트의 시작점부터 '숫자'칸씩 떨어져 있는 원소들을 모은 리스트를 반환\n",
        "print(a[1::2])\n",
        "\n",
        "# 리스트를 합칠 때는 + 기호를 이용\n",
        "b = a[::2] + a[1::2]\n",
        "print(b)"
      ],
      "execution_count": 10,
      "outputs": [
        {
          "output_type": "stream",
          "text": [
            "[90, 80]\n",
            "['국어점수', '수학점수']\n",
            "[90, 80, '국어점수', '수학점수']\n"
          ],
          "name": "stdout"
        }
      ]
    },
    {
      "cell_type": "code",
      "metadata": {
        "id": "NsJ9J_5LRyot",
        "outputId": "ff5ec698-b02b-4539-fad7-86c57175f716",
        "colab": {
          "base_uri": "https://localhost:8080/"
        }
      },
      "source": [
        "# 연습문제 5.20\n",
        "\n",
        "# 주의사항 : 문자열과 리스트를 사용해서 풀어보기\n",
        "\n",
        "src_str = input('문자열을 입력하세요 : ')\n",
        "src_list = list(src_str)\n",
        "#src_str = 'aaaabbb'\n",
        "#src_list = ['a','a','a','a','b','b','b']\n",
        "output = ''\n",
        "\n",
        "# 핵심은 이전에 문자를 기억해야 한다.\n",
        "left = ''\n",
        "counts = 0\n",
        "for i in range(0, len(src_list),1) :\n",
        "    # src_list의 첫번째 원소는 자동으로 저장하자.\n",
        "    if i == 0 :\n",
        "        left = src_list[i]\n",
        "        counts = 1\n",
        "    else :\n",
        "        # 이전에 나왔던 문자랑 현재 조사중인 문자가 같다면, count를 1 증가\n",
        "        if left == src_list[i] :\n",
        "            counts += 1\n",
        "        else :\n",
        "            # 지금까지 기록한 left와 counts를 output에 넣고\n",
        "            # left와 counts를 초기화한다.\n",
        "            output += left\n",
        "            output += str(counts)   # 정수형을 문자열에 넣기 위해서 str로 강제 형변환 수행\n",
        "\n",
        "            # left와 counts를 초기화한다.\n",
        "            left = src_list[i]\n",
        "            counts = 1\n",
        "if len(src_str) != 0 :\n",
        "    output += left\n",
        "    output += str(counts)\n",
        "print('output = \\'', end='')\n",
        "print(output,end='')\n",
        "print('\\'')\n",
        "# 맨 마지막에 남아 있는 left의 값과 counts의 값을 output에 넣어 준다.\n",
        "#output += left\n",
        "#output += str(counts)\n",
        "#print(output)"
      ],
      "execution_count": 18,
      "outputs": [
        {
          "output_type": "stream",
          "text": [
            "문자열을 입력하세요 : \n",
            "output = ''\n"
          ],
          "name": "stdout"
        }
      ]
    },
    {
      "cell_type": "code",
      "metadata": {
        "id": "8V-YZ6x0oNFn"
      },
      "source": [
        "# 2020 카카오 신입 공채 코딩테스트 문제 - 문자열 압축\n",
        "# https://programmers.co.kr/learn/courses/30/lessons/60057?language=python3#\n",
        "\n",
        "def solution(s):\n",
        "    answer = 0\n",
        "    \n",
        "    # j개 단위로 문자열을 잘라 봅시다.\n",
        "    # j의 범위 : 1 ~ '문자열 s의 전체 길이 / 2' 만큼\n",
        "    for j in range(1,int(len(s)/2 +1),1) :\n",
        "        output = ''     # 결과 문자열\n",
        "        left = ''       # 이전 문자열을 보관하는 곳\n",
        "        now = ''        # 현재 문자열을 보관하는 곳\n",
        "        counts = 0      # 이전 문자열이 나온 횟수\n",
        "        for i in range(0, len(s), 1) :\n",
        "            # j = 2라고 하면 1,3,5,7 부분에서 비교 수행 (나머지가 전부 2-1 = 1)\n",
        "            # j = 3이라고 하면 2, 5 부분에서 비교 수행 (나머지가 전부 3-1 = 2)\n",
        "            if i % j == j-1 :   # 비교해야 하는 곳인지 찾자\n",
        "                now += s[i]  \n",
        "\n",
        "                # 이전 문자열과의 비교를 수행\n",
        "                # 이전 문자열과 지금 문자열이 같으면, counts를 1 증가\n",
        "                # 지금 문자열은 초기화\n",
        "                if left == now :\n",
        "                    counts += 1\n",
        "                    now = ''\n",
        "                else :\n",
        "                    # 이전 문자열이 비어 있으면, 이전 문자열에 지금 문자열을 넣고\n",
        "                    # 다음으로 넘어간다.\n",
        "                    if left == '' :\n",
        "                        # 값을 하나씩 복사해서 left랑 now가 같은 곳을 보지 못하게 한다.\n",
        "                        for i in range(0,len(now),1) :\n",
        "                            left += now[i]\n",
        "                        now = ''\n",
        "                    else :\n",
        "                        # 이전 문자열과 지금 문자열이 다르다면, output에 추가\n",
        "                        # 숫자가 먼저 나오게 함\n",
        "                        # 반복 횟수가 1보다 크면 반복 횟수를 output에 추가\n",
        "                        if counts > 1 :\n",
        "                            output += str(counts)\n",
        "                        # 그리고 문자 추가\n",
        "                        output += left\n",
        "\n",
        "                        left = ''\n",
        "                        # 값을 하나씩 복사해서 left랑 now가 같은 곳을 보지 못하게 한다.\n",
        "                        for i in range(0,len(now),1) :\n",
        "                            left += now[i]\n",
        "                        counts = 1\n",
        "\n",
        "        if len(s) != 0 :\n",
        "            output += str(counts)\n",
        "            output += left\n",
        "\n",
        "        print(output)\n",
        "    return answer"
      ],
      "execution_count": null,
      "outputs": []
    }
  ]
}