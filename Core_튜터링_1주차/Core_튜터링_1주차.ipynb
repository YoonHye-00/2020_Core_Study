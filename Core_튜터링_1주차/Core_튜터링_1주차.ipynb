{
  "nbformat": 4,
  "nbformat_minor": 0,
  "metadata": {
    "colab": {
      "name": "Core_튜터링_1주차.ipynb",
      "provenance": []
    },
    "kernelspec": {
      "name": "python3",
      "display_name": "Python 3"
    }
  },
  "cells": [
    {
      "cell_type": "markdown",
      "metadata": {
        "id": "jd2cKE7ITwuq"
      },
      "source": [
        "백준 2557 - Hello World"
      ]
    },
    {
      "cell_type": "code",
      "metadata": {
        "id": "aFnwJYpyB0P_",
        "outputId": "49144d71-d919-4098-86ab-fbd4f9a532e8",
        "colab": {
          "base_uri": "https://localhost:8080/",
          "height": 35
        }
      },
      "source": [
        "print('Hello World!')"
      ],
      "execution_count": 3,
      "outputs": [
        {
          "output_type": "stream",
          "text": [
            "Hello World!\n"
          ],
          "name": "stdout"
        }
      ]
    },
    {
      "cell_type": "markdown",
      "metadata": {
        "id": "E-Gz6KAKTBpZ"
      },
      "source": [
        "백준 10171 - 고양이"
      ]
    },
    {
      "cell_type": "code",
      "metadata": {
        "id": "gbcMCTlzVcM3",
        "outputId": "e7baf962-f5ca-4b39-e612-2f051a111622",
        "colab": {
          "base_uri": "https://localhost:8080/",
          "height": 90
        }
      },
      "source": [
        "print('\\\\    /\\\\')\n",
        "print(\" )  ( ')\")\n",
        "print(\"(  /  )\")\n",
        "print(\" \\\\(__)|\")"
      ],
      "execution_count": 19,
      "outputs": [
        {
          "output_type": "stream",
          "text": [
            "\\    /\\\n",
            " )  ( ')\n",
            "(  /  )\n",
            " \\(__)|\n"
          ],
          "name": "stdout"
        }
      ]
    },
    {
      "cell_type": "code",
      "metadata": {
        "id": "ZyK-3zqFVmkc"
      },
      "source": [
        ""
      ],
      "execution_count": null,
      "outputs": []
    }
  ]
}