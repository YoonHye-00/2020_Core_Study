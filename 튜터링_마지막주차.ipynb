{
  "nbformat": 4,
  "nbformat_minor": 0,
  "metadata": {
    "colab": {
      "name": "튜터링_마지막주차",
      "provenance": [],
      "authorship_tag": "ABX9TyN92bi0O+mFWoMkC1tCxYEi",
      "include_colab_link": true
    },
    "kernelspec": {
      "name": "python3",
      "display_name": "Python 3"
    }
  },
  "cells": [
    {
      "cell_type": "markdown",
      "metadata": {
        "id": "view-in-github",
        "colab_type": "text"
      },
      "source": [
        "<a href=\"https://colab.research.google.com/github/YoonHye-00/2020_Core_Study/blob/main/%ED%8A%9C%ED%84%B0%EB%A7%81_%EB%A7%88%EC%A7%80%EB%A7%89%EC%A3%BC%EC%B0%A8.ipynb\" target=\"_parent\"><img src=\"https://colab.research.google.com/assets/colab-badge.svg\" alt=\"Open In Colab\"/></a>"
      ]
    },
    {
      "cell_type": "code",
      "metadata": {
        "colab": {
          "base_uri": "https://localhost:8080/"
        },
        "id": "89joqODVWpuD",
        "outputId": "5457457f-5f5f-40d5-9490-c03f28430ab0"
      },
      "source": [
        "lol = [[1,2,3], [4,5], [6,7,8,9]]\n",
        "print(lol[0])\n",
        "print(lol[2][1])\n",
        "for i in lol[0] :\n",
        "    print(i, end=' ')\n",
        "print()\n",
        "for j in lol[1] :\n",
        "    print(j, end=' ')\n",
        "print()\n",
        "for k in lol[2] :\n",
        "    print(k, end=' ')"
      ],
      "execution_count": 1,
      "outputs": [
        {
          "output_type": "stream",
          "text": [
            "[1, 2, 3]\n",
            "7\n",
            "1 2 3 \n",
            "4 5 \n",
            "6 7 8 9 "
          ],
          "name": "stdout"
        }
      ]
    },
    {
      "cell_type": "code",
      "metadata": {
        "colab": {
          "base_uri": "https://localhost:8080/"
        },
        "id": "45pj9ZqMhqTL",
        "outputId": "b9292232-f792-4345-f7a1-a3ba6ecba35e"
      },
      "source": [
        "try :\n",
        "    n = int(input('자연수를 입력하세요 : '))\n",
        "    for i in range(n) :\n",
        "        for k in range(i) :\n",
        "            print(' ',end='') \n",
        "        for j in range(n-i) :\n",
        "            print('*',end='')\n",
        "        print()\n",
        "except ValueError:\n",
        "    print('숫자를 입력하세요.')"
      ],
      "execution_count": 4,
      "outputs": [
        {
          "output_type": "stream",
          "text": [
            "자연수를 입력하세요 : -1\n"
          ],
          "name": "stdout"
        }
      ]
    },
    {
      "cell_type": "code",
      "metadata": {
        "id": "PQBuPl1PlWWE"
      },
      "source": [
        "#8\n",
        "p_dict = {'프로그래밍' : '김상수', '기초공학수학' : '박상지', '전산수학' : '전산기', '물리1및실험' : '김상수'}\n",
        "s_dict = {'남윤원' : 20150413, '정하연' : 20201610, '송혜민' : 20201592, '박윤혜' : 20202971}\n",
        "\n",
        "#교수 정보\n",
        "p_data = [(\"김상수\", \"aa@naver.com\"), (\"박상지\", \"bb@naver.com\"), (\"전산기\", \"cc@daum.net\"), (\"나은지\", \"dd@gmail.com\")]"
      ],
      "execution_count": 17,
      "outputs": []
    },
    {
      "cell_type": "code",
      "metadata": {
        "colab": {
          "base_uri": "https://localhost:8080/"
        },
        "id": "vHf4CcCCqaAg",
        "outputId": "3e86fc4b-034b-476e-dc4c-8bc4ca2540f8"
      },
      "source": [
        "# 8-(1)\n",
        "p_list = list(set(p_dict.values()))\n",
        "p_list.sort()\n",
        "print(p_list)"
      ],
      "execution_count": 12,
      "outputs": [
        {
          "output_type": "stream",
          "text": [
            "['김상수', '박상지', '전산기']\n"
          ],
          "name": "stdout"
        }
      ]
    },
    {
      "cell_type": "code",
      "metadata": {
        "id": "WEL0c0kmq7xg"
      },
      "source": [
        "#8-(2)\n",
        "def func(a) :\n",
        "    a_list = list(a.values())\n",
        "    a_list2 = list(set(a.values()))\n",
        "    p,q = 0,0\n",
        "    prof = ''\n",
        "    for i in a_list2 :\n",
        "        p = a_list.count(i)\n",
        "        if p > q :\n",
        "            prof = i\n",
        "            q = p\n",
        "    print('가장 많은 수업을 담당하고 계시는 교수님 :',prof)"
      ],
      "execution_count": 15,
      "outputs": []
    },
    {
      "cell_type": "code",
      "metadata": {
        "colab": {
          "base_uri": "https://localhost:8080/"
        },
        "id": "ZTO-ky0jrgxq",
        "outputId": "0c91d46d-b62f-4446-b799-e97baf4a922c"
      },
      "source": [
        "func(p_dict)"
      ],
      "execution_count": 16,
      "outputs": [
        {
          "output_type": "stream",
          "text": [
            "가장 많은 수업을 담당하고 계시는 교수님 : 김상수\n"
          ],
          "name": "stdout"
        }
      ]
    },
    {
      "cell_type": "code",
      "metadata": {
        "colab": {
          "base_uri": "https://localhost:8080/"
        },
        "id": "KHdp9ppxx63v",
        "outputId": "490dd00f-4638-473c-d58e-3dcb04cf4083"
      },
      "source": [
        "#8-(3)\n",
        "def func2(p_dict, p_data) :\n",
        "    name = []\n",
        "    for i in p_dict :\n",
        "        if i == '프로그래밍' or i == '기초공학수학' :\n",
        "            name.append(p_dict[i])  #value값 추출\n",
        "    \n",
        "    #name의 중복 제거\n",
        "    b = set(name)\n",
        "    name = list(b)\n",
        "\n",
        "    # p_data에서 교수님의 메일주소를 알아보자\n",
        "    for i in name :\n",
        "        for j in p_data :\n",
        "            if i == j[0] :\n",
        "                print('교수님의 이름은 {}이고, 이메일은 {}입니다.'.format(i, j[1]))\n",
        "\n",
        "func2(p_dict, p_data)"
      ],
      "execution_count": 19,
      "outputs": [
        {
          "output_type": "stream",
          "text": [
            "교수님의 이름은 박상지이고, 이메일은 bb@naver.com입니다.\n",
            "교수님의 이름은 김상수이고, 이메일은 aa@naver.com입니다.\n"
          ],
          "name": "stdout"
        }
      ]
    },
    {
      "cell_type": "code",
      "metadata": {
        "colab": {
          "base_uri": "https://localhost:8080/"
        },
        "id": "eC3GYAVqzXIi",
        "outputId": "e9accf6f-f2e0-42c3-e35b-a4ef1c50e3e4"
      },
      "source": [
        "#8-(4)\n",
        "class Smartcampus :\n",
        "    def __init__(self, s_dict) :\n",
        "        #인스턴스 변수 : 생성자 안에서 선언되는 변수\n",
        "        self.__data = s_dict\n",
        "    def detect(self) :\n",
        "        # 20학번이 아닌 친구들은 재수강반에서 수강해야 합니다. 수강신청을 잘못 수행한 수강생을 출력하는 메소드를 설계해 보세요.\n",
        "        for i in self.__data :\n",
        "            id = self.__data[i] // 10000\n",
        "            if id != 2020 :\n",
        "                print(i, '(은)는 재수강반에서 수강해야 합니다.')\n",
        "\n",
        "a = Smartcampus(s_dict)\n",
        "a.detect()"
      ],
      "execution_count": 22,
      "outputs": [
        {
          "output_type": "stream",
          "text": [
            "남윤원 (은)는 재수강반에서 수강해야 합니다.\n"
          ],
          "name": "stdout"
        }
      ]
    }
  ]
}