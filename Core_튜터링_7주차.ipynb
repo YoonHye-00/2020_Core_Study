{
  "nbformat": 4,
  "nbformat_minor": 0,
  "metadata": {
    "colab": {
      "name": "Core_튜터링_7주차",
      "provenance": [],
      "authorship_tag": "ABX9TyMGKf2QYkmO702Qz40tcQaJ",
      "include_colab_link": true
    },
    "kernelspec": {
      "name": "python3",
      "display_name": "Python 3"
    }
  },
  "cells": [
    {
      "cell_type": "markdown",
      "metadata": {
        "id": "view-in-github",
        "colab_type": "text"
      },
      "source": [
        "<a href=\"https://colab.research.google.com/github/YoonHye-00/2020_Core_Study/blob/main/Core_%ED%8A%9C%ED%84%B0%EB%A7%81_7%EC%A3%BC%EC%B0%A8.ipynb\" target=\"_parent\"><img src=\"https://colab.research.google.com/assets/colab-badge.svg\" alt=\"Open In Colab\"/></a>"
      ]
    },
    {
      "cell_type": "markdown",
      "metadata": {
        "id": "V2snuAgGPnzJ"
      },
      "source": [
        "#2020 카카오 신입 공채 코딩테스르 문제 완성하기 - 문자열 압축(연습문제 5.20)"
      ]
    },
    {
      "cell_type": "code",
      "metadata": {
        "id": "dVTzIox-OZEo"
      },
      "source": [
        "# 2020 카카오 신입 공채 코딩테스트 문제 - 문자열 압축\n",
        "# https://programmers.co.kr/learn/courses/30/lessons/60057?language=python3#\n",
        "\n",
        "def solution(s):\n",
        "    answer = 100000\n",
        "    \n",
        "    # 코너 케이스(극단적인 케이스, 경계값)의 경우 예외처리를 해주자\n",
        "    # s의 길이가 1인 경우 (입력값이 \"a\"인 경우)\n",
        "    if len(s) == 1 :\n",
        "        return 1\n",
        "    \n",
        "    # j개 단위로 문자열을 잘라 봅시다.\n",
        "    # j의 범위 : 1 ~ '문자열 s의 전체 길이 / 2' 만큼\n",
        "    for j in range(1,int(len(s)/2 +1),1) :\n",
        "        output = ''     # 결과 문자열\n",
        "        left = ''       # 이전 문자열을 보관하는 곳\n",
        "        now = ''        # 현재 문자열을 보관하는 곳\n",
        "        counts = 1      # 이전 문자열이 나온 횟수 (1로 초기화)\n",
        "        for i in range(0, len(s), 1) :\n",
        "            now += s[i]     # now에는 항상 s[i]가 추가되어야 함\n",
        "             \n",
        "            # j = 2라고 하면 1,3,5,7 부분에서 비교 수행 (나머지가 전부 2-1 = 1)\n",
        "            # j = 3이라고 하면 2, 5 부분에서 비교 수행 (나머지가 전부 3-1 = 2)\n",
        "            if (i % j) == (j-1) :   # 비교해야 하는 곳인지 찾자 \n",
        "\n",
        "                # 이전 문자열과의 비교를 수행\n",
        "                # 이전 문자열과 지금 문자열이 같으면, counts를 1 증가\n",
        "                # 지금 문자열은 초기화\n",
        "                if left == now :\n",
        "                    counts += 1\n",
        "                else :\n",
        "                    # 이전 문자열이 비어 있으면, 이전 문자열에 지금 문자열을 넣고\n",
        "                    # 다음으로 넘어간다.\n",
        "                    if left == '' :\n",
        "                        # 값을 하나씩 복사해서 left랑 now가 같은 곳을 보지 못하게 한다.\n",
        "                        for i in range(0,len(now),1) :\n",
        "                            left += now[i]\n",
        "\n",
        "                    else :\n",
        "                        # 이전 문자열과 지금 문자열이 다르다면, output에 추가\n",
        "                        # 숫자가 먼저 나오게 함\n",
        "                        # 반복 횟수가 1보다 크면 반복 횟수를 output에 추가\n",
        "                        if counts > 1 :\n",
        "                            output += str(counts)\n",
        "                        # 그리고 문자 추가\n",
        "                        output += left\n",
        "\n",
        "                        left = ''\n",
        "                        # 값을 하나씩 복사해서 left랑 now가 같은 곳을 보지 못하게 한다.\n",
        "                        for i in range(0,len(now),1) :\n",
        "                            left += now[i]\n",
        "                        counts = 1\n",
        "\n",
        "                # 지금 문자열은 초기화한다.\n",
        "                now = ''\n",
        "\n",
        "        if counts > 1 :\n",
        "                output += str(counts)\n",
        "        output += left\n",
        "        output += now\n",
        "\n",
        "        #print('결과 :',output)\n",
        "\n",
        "        # 현재 내가 가지고 있는 답안보다 새롭게 만든 문자열의 길이가 더 짧으면\n",
        "        # 답안을 갱신\n",
        "        # if answer > len(output) :\n",
        "        #   answer = len(output)\n",
        "        answer = min(answer, len(output))\n",
        "    return answer"
      ],
      "execution_count": 5,
      "outputs": []
    },
    {
      "cell_type": "code",
      "metadata": {
        "id": "BlBiJWgdW651",
        "outputId": "10a51432-c3f4-4e23-bbbc-f1824f0cc1e6",
        "colab": {
          "base_uri": "https://localhost:8080/"
        }
      },
      "source": [
        "a_str = input()\n",
        "print(solution(a_str))"
      ],
      "execution_count": 6,
      "outputs": [
        {
          "output_type": "stream",
          "text": [
            "a\n",
            "1\n"
          ],
          "name": "stdout"
        }
      ]
    },
    {
      "cell_type": "markdown",
      "metadata": {
        "id": "F30HWNSNPxjz"
      },
      "source": [
        "#sort 함수를 알아보고 이와 관련된 문제 풀어보기"
      ]
    },
    {
      "cell_type": "code",
      "metadata": {
        "id": "4laE-XEoYfdo",
        "outputId": "d11ede8f-41e4-4162-ff00-b3cfe172adfe",
        "colab": {
          "base_uri": "https://localhost:8080/"
        }
      },
      "source": [
        "# 백준 2750\n",
        "\n",
        "# 숫자 개수 입력받기\n",
        "N = int(input())\n",
        "\n",
        "l = []\n",
        "# N개의 수 입력받기\n",
        "for i in range(N) :\n",
        "    a = int(input())\n",
        "    l.append(a)\n",
        "\n",
        "# sort 함수는 자신의 리스트 자체를 바꾼다. (함수의 리턴값이 없어서 자기 리스트 자체를 바꿈)\n",
        "l.sort()\n",
        "\n",
        "for j in range(N) :\n",
        "    print(l[j])\n",
        "\n",
        "# 내림차순 정렬 (큰 수부터 작은 수 순으로 나열)\n",
        "l.sort(reverse = True)\n",
        "print(l)"
      ],
      "execution_count": 5,
      "outputs": [
        {
          "output_type": "stream",
          "text": [
            "5\n",
            "3\n",
            "4\n",
            "1\n",
            "5\n",
            "2\n",
            "1\n",
            "2\n",
            "3\n",
            "4\n",
            "5\n",
            "[5, 4, 3, 2, 1]\n"
          ],
          "name": "stdout"
        }
      ]
    },
    {
      "cell_type": "code",
      "metadata": {
        "id": "bYsbE15sZPZR",
        "outputId": "6054bfc6-1456-4b2d-e94f-790871d51b5c",
        "colab": {
          "base_uri": "https://localhost:8080/"
        }
      },
      "source": [
        "4# 백준 2750 - sorted 함수 사용\n",
        "\n",
        "# 숫자 개수 입력받기\n",
        "N = int(input())\n",
        "\n",
        "l = []\n",
        "# N개의 수 입력받기\n",
        "for i in range(N) :\n",
        "    a = int(input())\n",
        "    l.append(a)\n",
        "\n",
        "# sorted 함수는 원본 리스트를 그대로 두고, 정렬된 리스트를 반환해서 새 리스트에 넣는다.\n",
        "p = sorted(l)\n",
        "\n",
        "g = sorted(l, reverse = True)\n",
        "print(g)\n",
        "print(l)"
      ],
      "execution_count": 9,
      "outputs": [
        {
          "output_type": "stream",
          "text": [
            "5\n",
            "3\n",
            "4\n",
            "1\n",
            "2\n",
            "5\n",
            "[5, 4, 3, 2, 1]\n",
            "[3, 4, 1, 2, 5]\n"
          ],
          "name": "stdout"
        }
      ]
    },
    {
      "cell_type": "markdown",
      "metadata": {
        "id": "0jwY86Y7fHvb"
      },
      "source": [
        "#sort 함수를 사용하지 않고 정렬하는 방법?"
      ]
    },
    {
      "cell_type": "code",
      "metadata": {
        "id": "1IesknFHe02E",
        "outputId": "6cf90389-c0bd-4f42-cfd4-b14aa8f34a52",
        "colab": {
          "base_uri": "https://localhost:8080/"
        }
      },
      "source": [
        "# list_1을 오름차순 정렬해보자 (작은 수부터 큰 수대로)\n",
        "list_1 = [5, 3, 8, 1, 2, 7]\n",
        "\n",
        "# 어떤 리스트에서 i번째 위치의 원소와 j번째 위치의 원소를 바꾸는 함수\n",
        "def swap(i,j) :\n",
        "    a = list_1[i]\n",
        "    list_1[i] = list_1[j]\n",
        "    list_1[j] = a\n",
        "\n",
        "# 선택 정렬 : 제일 작은 값을 찾아서, 맨 앞에서부터 나열해서 오름차순 정렬을 하는 방식\n",
        "for i in range(len(list_1)) :\n",
        "    a = min(list_1[i:])           # 제일 작은 값을 찾는 과정          (min(리스트) 함수 사용)\n",
        "    m_index = list_1.index(a)     # 그 값이 어디에 있는지를 찾는 과정 (index(원소) 메소드 사용)\n",
        "    swap(i, m_index)\n",
        "\n",
        "\n",
        "print(list_1)\n",
        "\n",
        "# 3-1 자료구조 시간에 배움"
      ],
      "execution_count": 11,
      "outputs": [
        {
          "output_type": "stream",
          "text": [
            "[1, 2, 3, 5, 7, 8]\n"
          ],
          "name": "stdout"
        }
      ]
    },
    {
      "cell_type": "markdown",
      "metadata": {
        "id": "DQwIbWwckT0k"
      },
      "source": [
        "#으뜸파이썬 6장 : 리스트, 딕셔너리, 튜플"
      ]
    },
    {
      "cell_type": "code",
      "metadata": {
        "id": "NUn9Z8CZjoKg",
        "outputId": "ea33fdfd-d6b8-4e61-9eff-81be572a37de",
        "colab": {
          "base_uri": "https://localhost:8080/"
        }
      },
      "source": [
        "a = []  # 대괄호 : 리스트\n",
        "b = {}  # 중괄호 : 딕셔너리 (dictionary)\n",
        "c = ()  # 소괄호 : 튜플 (tuple)\n",
        "\n",
        "a = ['국어', 90, '수학', 80]\n",
        "b = {'국어' : 90, '수학' : 80}\n",
        "print(a)\n",
        "print(b)\n",
        "\n",
        "# 딕셔너리는 key(키)와 value(값)로 이루어져 있다.   {key : value, key : value}\n",
        "# 왜 쓸까? 일단 쌍으로 묶여 있어서 특정 상황에서 좋을 수 있음\n",
        "# b[key값] = value\n",
        "print(b['국어'])\n",
        "print(b['수학'])\n",
        "\n",
        "# 딕셔너리에 원소 추가하기\n",
        "# 플밍 : 100 추가\n",
        "# b[key값] = value값 : 이렇게 쓰면 딕셔너리에 원소가 추가된다.\n",
        "b['플밍'] = 100\n",
        "\n",
        "print(b)\n",
        "print(b['플밍'])\n",
        "\n",
        "# 딕셔너리 원소 수정하기\n",
        "b['수학'] = 50\n",
        "print(b)\n",
        "\n",
        "######### 중요한 성질 : 딕셔너리에서 key값은 중복될 수 없다 !!!\n",
        "######### 중요한 성질 : value 값은 상관없다. (value 값이 중복되는 것은 상관없음)\n",
        "d = {'국어' : 40, '국어' : 50, '수학' : 50, '과학' : 60}\n",
        "# 오류는 발생하지 않음 !!  \n",
        "# 해당하는 key값이 없을 때는 keyError 발생  >> print(d['사회']) \n",
        "\n",
        "print(d)\n",
        "# 결과\n",
        "# 1. 오류가 난다.      << 이거에 낚이지 말자 !\n",
        "# 2. {'국어' : 40, '국어' : 50, '수학' : 50, '과학' : 60}\n",
        "# 3. {'국어' : 40, '수학' : 50, '과학' : 60}\n",
        "# 4. {'국어' : 50, '수학' : 50, '과학' : 60}    << 이게 정답 !\n",
        "\n",
        "# 딕셔너리 원소 삭제\n",
        "# del 딕셔너리이름[key값]  >> key와 value 모두 삭제됨\n",
        "del d['수학']\n",
        "print(d)\n",
        "\n",
        "# 딕셔너리에 이 키값이 있는지를 판정하고 싶을 떄 (value 값과는 상관이 없음)\n",
        "# ex) 너네 학교에 플밍과목이 있니?\n",
        "# key값 in 딕셔너리 이름\n",
        "if '수학' in d :\n",
        "    print('수학이 d에 있다.')\n",
        "else :\n",
        "    print('수학은 d에 없다.')\n",
        "\n",
        "if 50 in d :\n",
        "    print('50은 d에 있다.')\n",
        "else :\n",
        "    print('50은 d에 없다.')"
      ],
      "execution_count": 19,
      "outputs": [
        {
          "output_type": "stream",
          "text": [
            "['국어', 90, '수학', 80]\n",
            "{'국어': 90, '수학': 80}\n",
            "90\n",
            "80\n",
            "{'국어': 90, '수학': 80, '플밍': 100}\n",
            "100\n",
            "{'국어': 90, '수학': 50, '플밍': 100}\n",
            "{'국어': 50, '수학': 50, '과학': 60}\n",
            "{'국어': 50, '과학': 60}\n",
            "수학은 d에 없다.\n",
            "50은 d에 없다.\n"
          ],
          "name": "stdout"
        }
      ]
    },
    {
      "cell_type": "code",
      "metadata": {
        "id": "BGkhlrKnl2y4",
        "outputId": "b9a7f013-ee7f-4a85-e7b4-32e0f1d23c59",
        "colab": {
          "base_uri": "https://localhost:8080/"
        }
      },
      "source": [
        "# 딕셔너리에 이 value 값이 있는지를 판정하고 싶을 떄\n",
        "\n",
        "# for i in 딕셔너리이름 :\n",
        "    # i는 딕셔너리 키값\n",
        "\n",
        "for i in d :\n",
        "    print(i)    # 딕셔너리 키값을 모두 추출하는 경우\n",
        "\n",
        "for i in d :\n",
        "    print(d[i])     # 딕셔너리 value 값을 모두 추출하는 경우\n",
        "    if 50 == d[i] :\n",
        "        print('50점이 있습니다.')"
      ],
      "execution_count": 22,
      "outputs": [
        {
          "output_type": "stream",
          "text": [
            "국어\n",
            "과학\n",
            "50\n",
            "50점이 있습니다.\n",
            "60\n"
          ],
          "name": "stdout"
        }
      ]
    }
  ]
}