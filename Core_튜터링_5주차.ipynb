{
  "nbformat": 4,
  "nbformat_minor": 0,
  "metadata": {
    "colab": {
      "name": "Core_튜터링_5주차",
      "provenance": [],
      "collapsed_sections": [],
      "authorship_tag": "ABX9TyPTeaAjUPVcrRPjseMwwxqM",
      "include_colab_link": true
    },
    "kernelspec": {
      "name": "python3",
      "display_name": "Python 3"
    }
  },
  "cells": [
    {
      "cell_type": "markdown",
      "metadata": {
        "id": "view-in-github",
        "colab_type": "text"
      },
      "source": [
        "<a href=\"https://colab.research.google.com/github/YoonHye-00/2020_Core_Study/blob/main/Core_%ED%8A%9C%ED%84%B0%EB%A7%81_5%EC%A3%BC%EC%B0%A8.ipynb\" target=\"_parent\"><img src=\"https://colab.research.google.com/assets/colab-badge.svg\" alt=\"Open In Colab\"/></a>"
      ]
    },
    {
      "cell_type": "markdown",
      "metadata": {
        "id": "OWdlHRXRJRle"
      },
      "source": [
        "#미로찾기 프로그램 만들기\n",
        "\n",
        "(기존 파일)\n",
        "1. 빈 공간은 0으로, 캐릭터는 1로 두었다.\n",
        "2. 모서리에 닿으면 그 방향으로는 계속 진행할 수 없게 하였다.\n",
        "\n",
        "(조건)\n",
        "1. 벽은 #으로, 빈 공간은 .으로 둔다.\n",
        "2. 캐릭터는 B로 둔다. (Ball의 약자)\n",
        "3. 모서리 부분은 전부 #으로 막아 놓는다.\n",
        "\n",
        "(프로그램 설명)\n",
        "1. 프로그래밍 언어 : Python\n",
        "2. 함수를 사용하여 짜임새 있게 구현하였다."
      ]
    },
    {
      "cell_type": "markdown",
      "metadata": {
        "id": "_ZZgcmJuJoDy"
      },
      "source": [
        "#프로그램 코드"
      ]
    },
    {
      "cell_type": "markdown",
      "metadata": {
        "id": "JeoOjDOdJtdu"
      },
      "source": [
        "변수 선언"
      ]
    },
    {
      "cell_type": "code",
      "metadata": {
        "id": "6FqTkyMwJ-Xr"
      },
      "source": [
        "# 벽은 #으로, 빈 공간은 .으로, 캐릭터는 B로 둔다.\n",
        "Block = '#'\n",
        "Character = 'B'\n",
        "Void_area = '.'\n",
        "\n",
        "# 게임판을 새롭게 정의\n",
        "game_board = []\n",
        "row = 0         # 행의 길이\n",
        "column = 0      # 열의 길이\n",
        "\n",
        "# 주인공의 자리를 새롭게 정의\n",
        "c_y = 0         # 캐릭터가 처음 시작하는 자리의 y좌표\n",
        "c_x = 0         # 캐릭터가 처음 시작하는 자리의 x좌표\n"
      ],
      "execution_count": 46,
      "outputs": []
    },
    {
      "cell_type": "markdown",
      "metadata": {
        "id": "xEBo8bqMJurb"
      },
      "source": [
        "함수 정의부"
      ]
    },
    {
      "cell_type": "code",
      "metadata": {
        "id": "TRjN2jUnJxPu"
      },
      "source": [
        "# 게임판을 초기화하는 함수\n",
        "# 인자로 행의 길이와 열의 길이를 받아서 그 크기만큼 game_board를 만들고,\n",
        "# 그 리턴값을 함수 밖에 있는 game_board에 대입\n",
        "# 이 함수는 다음과 같이 사용 : game_board = default_game_board(5,5)\n",
        "\n",
        "def default_game_board(row, column, c_y, c_x) :\n",
        "  game_board = []\n",
        "  for i in range(0, row ,1) :    # 게임판의 행\n",
        "    a = []\n",
        "    for j in range(0, column ,1) :  # 게임판의 열\n",
        "      a.append('.')\n",
        "    game_board.append(a)\n",
        "\n",
        "  #캐릭터의 자리를 정하는 부분\n",
        "  game_board[c_y][c_x] = 'B'\n",
        "\n",
        "  #벽을 넣는 부분\n",
        "  # (1) 맨 위 가로줄 (0,0) ~ (0,column-1)\n",
        "  # (2) 맨 밑 가로줄 (row-1,0) ~ (row-1,column-1)\n",
        "  \n",
        "  for k in range(0,column,1) :\n",
        "      game_board[0][k] = '#'          #(1)\n",
        "      game_board[row-1][k] = '#'      #(2)\n",
        "  \n",
        "  # (3) 맨 왼쪽 세로줄 (0,0) ~ (row-1,0)\n",
        "  # (4) 맨 오른쪽 세로줄 (0,column-1) ~ (row-1,colum-1)\n",
        "\n",
        "  for l in range(0,row,1) :\n",
        "      game_board[l][0] = '#'          #(3)\n",
        "      game_board[l][column-1] = '#'   #(4)\n",
        "  \n",
        "  print_game_board(game_board)\n",
        "\n",
        "  return game_board\n"
      ],
      "execution_count": 47,
      "outputs": []
    },
    {
      "cell_type": "code",
      "metadata": {
        "id": "FVqHsXCaJOIq"
      },
      "source": [
        "# 이중 리스트를 이중 리스트답게 출력하는 함수 만들기\n",
        "\n",
        "def print_game_board(game_board) :\n",
        "  print('이중 리스트를 출력합니다.')\n",
        "  for i in range(0,len(game_board),1) :          # 가로(행) 길이 : len(game_board)\n",
        "    for j in range(0,len(game_board[i]),1) :     # 세로(열) 길이 : len(game_board[i])\n",
        "      print(game_board[i][j], end =' ')\n",
        "    print()    \n",
        "  print('이중 리스트의 출력이 끝났습니다.')\n",
        "  print()"
      ],
      "execution_count": 48,
      "outputs": []
    },
    {
      "cell_type": "code",
      "metadata": {
        "id": "aao3UjI2J1cd"
      },
      "source": [
        "# 테두리에 닿았다면?\n",
        "# 끝까지 왔는데 그 방향으로 또 간다고 하면 못가게 막음\n",
        "\n",
        "def check(dir, y, x) :\n",
        "  # 현재 좌표가 테두리를 벗어난다면\n",
        "  if x < 0 or x > 4 or y < 0 or y > 4 :\n",
        "    # 다시 고쳐주고\n",
        "    if dir == '왼쪽' :\n",
        "      x=0\n",
        "    elif dir == '오른쪽' :\n",
        "      x=4\n",
        "    elif dir == '위쪽' :\n",
        "      y=0\n",
        "    elif dir == '아래쪽' :\n",
        "      y=4\n",
        "\n",
        "    # 사용자에게 알려줌\n",
        "    print('더 이상 {}으로 갈 수 없습니다.'.format(dir))\n",
        "  \n",
        "  # 그리고 그 좌표를 리턴한다\n",
        "  return y, x"
      ],
      "execution_count": 49,
      "outputs": []
    },
    {
      "cell_type": "code",
      "metadata": {
        "id": "6EBcPhlmdN1J"
      },
      "source": [
        "# 벽을 만나기 전까지 한 방향으로 계속 캐릭터를 움직이는 함수\n",
        "# 재귀함수를 이용해서 만들어 보자\n",
        "# 인자로 게임판, 캐릭터의 y좌표, 캐릭터의 x좌표, 움직일 방향을 받음\n",
        "# 리턴값은 캐릭터가 벽을 만나기 전까지 한 방향으로 계속 움직인 결과를 보여주는 게임판\n",
        "\n",
        "def move_not_block(game_board, c_y, c_x, dir) :\n",
        "    # 재귀함수를 잘 알려면 print를 해보면 된다.\n",
        "    print_game_board(game_board)\n",
        "    print(c_y,c_x,dir)\n",
        "\n",
        "    # 함수 안에서만 쓰이는 y, x 변수를 만듦\n",
        "    y = c_y\n",
        "    x = c_x\n",
        "\n",
        "    # 먼저 1칸 이동\n",
        "    if dir == '왼쪽' :\n",
        "        x -= 1\n",
        "    elif dir == '오른쪽' :\n",
        "        x += 1\n",
        "    elif dir == '위쪽' :\n",
        "        y -= 1\n",
        "    elif dir =='아래쪽' :\n",
        "        y += 1    \n",
        "\n",
        "    # 이동한 자리가 벽인지 확인\n",
        "    if game_board[y][x] != '#' :\n",
        "        # 이동하기 전 자리는 빈 공간('.')으로 두고\n",
        "        # 이동 후 자리에 캐릭터 표시('B')를 한다.\n",
        "        game_board[c_y][c_x] = '.'\n",
        "        game_board[y][x] = 'B'\n",
        "        return move_not_block(game_board,y,x,dir)\n",
        "    else :\n",
        "        return game_board\n"
      ],
      "execution_count": 50,
      "outputs": []
    },
    {
      "cell_type": "markdown",
      "metadata": {
        "id": "b_nULctxTm7D"
      },
      "source": [
        "함수 테스트"
      ]
    },
    {
      "cell_type": "code",
      "metadata": {
        "id": "-ZFHDQ4YTpEg",
        "outputId": "248b347a-c88d-4395-b627-feb93cb3b2f9",
        "colab": {
          "base_uri": "https://localhost:8080/"
        }
      },
      "source": [
        "# default_game_board 함수 테스트\n",
        "game_board = default_game_board(7,5,2,2)"
      ],
      "execution_count": 62,
      "outputs": [
        {
          "output_type": "stream",
          "text": [
            "이중 리스트를 출력합니다.\n",
            "# # # # # \n",
            "# . . . # \n",
            "# . B . # \n",
            "# . . . # \n",
            "# . . . # \n",
            "# . . . # \n",
            "# # # # # \n",
            "이중 리스트의 출력이 끝났습니다.\n",
            "\n"
          ],
          "name": "stdout"
        }
      ]
    },
    {
      "cell_type": "code",
      "metadata": {
        "id": "wTMZXRMxhG6k",
        "outputId": "56617074-7361-441c-a76b-1c8ddc542060",
        "colab": {
          "base_uri": "https://localhost:8080/"
        }
      },
      "source": [
        "game_board = move_not_block(game_board, 2, 2, '아래쪽')\n",
        "print('최종결과')\n",
        "print_game_board(game_board)"
      ],
      "execution_count": 63,
      "outputs": [
        {
          "output_type": "stream",
          "text": [
            "이중 리스트를 출력합니다.\n",
            "# # # # # \n",
            "# . . . # \n",
            "# . B . # \n",
            "# . . . # \n",
            "# . . . # \n",
            "# . . . # \n",
            "# # # # # \n",
            "이중 리스트의 출력이 끝났습니다.\n",
            "\n",
            "2 2 아래쪽\n",
            "이중 리스트를 출력합니다.\n",
            "# # # # # \n",
            "# . . . # \n",
            "# . . . # \n",
            "# . B . # \n",
            "# . . . # \n",
            "# . . . # \n",
            "# # # # # \n",
            "이중 리스트의 출력이 끝났습니다.\n",
            "\n",
            "3 2 아래쪽\n",
            "이중 리스트를 출력합니다.\n",
            "# # # # # \n",
            "# . . . # \n",
            "# . . . # \n",
            "# . . . # \n",
            "# . B . # \n",
            "# . . . # \n",
            "# # # # # \n",
            "이중 리스트의 출력이 끝났습니다.\n",
            "\n",
            "4 2 아래쪽\n",
            "이중 리스트를 출력합니다.\n",
            "# # # # # \n",
            "# . . . # \n",
            "# . . . # \n",
            "# . . . # \n",
            "# . . . # \n",
            "# . B . # \n",
            "# # # # # \n",
            "이중 리스트의 출력이 끝났습니다.\n",
            "\n",
            "5 2 아래쪽\n",
            "최종결과\n",
            "이중 리스트를 출력합니다.\n",
            "# # # # # \n",
            "# . . . # \n",
            "# . . . # \n",
            "# . . . # \n",
            "# . . . # \n",
            "# . B . # \n",
            "# # # # # \n",
            "이중 리스트의 출력이 끝났습니다.\n",
            "\n"
          ],
          "name": "stdout"
        }
      ]
    },
    {
      "cell_type": "markdown",
      "metadata": {
        "id": "k18HhjOoL2R5"
      },
      "source": [
        "메인 함수"
      ]
    },
    {
      "cell_type": "code",
      "metadata": {
        "id": "ryO3PNtDJ6rO",
        "outputId": "84a4b8dd-f513-4df1-9659-dc6c79aee2f2",
        "colab": {
          "base_uri": "https://localhost:8080/"
        }
      },
      "source": [
        "# 1. 게임판 만들기\n",
        "# 가장 기본적인 방법\n",
        "lists = [[0,0,0,0,0],\n",
        "         [0,0,0,0,0],\n",
        "         [0,0,1,0,0],\n",
        "         [0,0,0,0,0],\n",
        "         [0,0,0,0,0]]\n",
        "\n",
        "print(lists)"
      ],
      "execution_count": 7,
      "outputs": [
        {
          "output_type": "stream",
          "text": [
            "[[0, 0, 0, 0, 0], [0, 0, 0, 0, 0], [0, 0, 1, 0, 0], [0, 0, 0, 0, 0], [0, 0, 0, 0, 0]]\n"
          ],
          "name": "stdout"
        }
      ]
    },
    {
      "cell_type": "code",
      "metadata": {
        "id": "c7y1RVa6L9jf",
        "outputId": "e2cd9a3f-1048-4669-ee41-5efdf47eba93",
        "colab": {
          "base_uri": "https://localhost:8080/"
        }
      },
      "source": [
        "# 2. 움직이는 것을 구현\n",
        "# 내가 지금 있는 위치를 표시 > (y,x)\n",
        "y=2\n",
        "x=2\n",
        "\n",
        "# lists 초기화\n",
        "lists = default_doublelist(lists)\n",
        "\n",
        "dir = input('방향을 입력하세요 : ')\n",
        "\n",
        "# lists 업데이트 : 이동하기 전 위치의 좌표는 0으로 만든다\n",
        "lists[y][x] = 0\n",
        "\n",
        "# 왼쪽으로 1칸 간다면? (2,2) > (2,1)\n",
        "if dir == '왼쪽' :\n",
        "  x = x-1\n",
        "\n",
        "# 오른쪽으로 1칸 간다면? (2,2) > (2,3)\n",
        "elif dir == '오른쪽' :\n",
        "  x = x+1\n",
        "\n",
        "# 위로 1칸 간다면? (2,2) > (1,2)\n",
        "elif dir == '위쪽' :\n",
        "  y = y-1\n",
        "\n",
        "# 아래로 1칸 간다면? (2,2) > (3,2)\n",
        "elif dir == '아래쪽' :\n",
        "  y = y+1\n",
        "\n",
        "print(y, x)\n",
        "\n",
        "lists[y][x] = 1\n",
        "\n",
        "print_doublelist(lists)\n"
      ],
      "execution_count": 8,
      "outputs": [
        {
          "output_type": "stream",
          "text": [
            "이중 리스트를 출력합니다.\n",
            "0 0 0 0 0 \n",
            "0 0 0 0 0 \n",
            "0 0 1 0 0 \n",
            "0 0 0 0 0 \n",
            "0 0 0 0 0 \n",
            "이중 리스트의 출력이 끝났습니다.\n",
            "\n",
            "방향을 입력하세요 : 오른쪽\n",
            "2 3\n",
            "이중 리스트를 출력합니다.\n",
            "0 0 0 0 0 \n",
            "0 0 0 0 0 \n",
            "0 0 0 1 0 \n",
            "0 0 0 0 0 \n",
            "0 0 0 0 0 \n",
            "이중 리스트의 출력이 끝났습니다.\n",
            "\n"
          ],
          "name": "stdout"
        }
      ]
    },
    {
      "cell_type": "code",
      "metadata": {
        "id": "xQryPN44MCUV",
        "outputId": "656236c1-64b8-46a5-def0-5495b0742c2e",
        "colab": {
          "base_uri": "https://localhost:8080/"
        }
      },
      "source": [
        "# 3. 여러 동작 수행하기\n",
        "\n",
        "# lists 초기화\n",
        "lists = default_doublelist(lists)\n",
        "\n",
        "x=2\n",
        "y=2\n",
        "\n",
        "while True :\n",
        "  dir = input(\"방향을 입력하세요(그만하시고 싶으시면 '그만'이라고 입력하세요) : \")\n",
        "\n",
        "  # lists 업데이트 : 이동하기 전 위치의 좌표는 0으로 만든다\n",
        "  lists[y][x] = 0\n",
        "\n",
        "  # 왼쪽으로 1칸 간다면? (2,2) > (2,1)\n",
        "  if dir == '왼쪽' :\n",
        "    x = x-1\n",
        "    y, x = check(dir, y, x)\n",
        "    # 테두리에 닿았다면?\n",
        "    #if x < 0 :\n",
        "      #x=0\n",
        "      #print('더 이상 왼쪽으로 갈 수 없습니다. ')\n",
        "\n",
        "  # 오른쪽으로 1칸 간다면? (2,2) > (2,3)\n",
        "  elif dir == '오른쪽' :\n",
        "    x = x+1\n",
        "    y, x = check(dir, y, x)\n",
        "    #if x > 4 :\n",
        "      #x=4 \n",
        "      #print('더 이상 오른쪽으로 갈 수 없습니다. ')\n",
        "\n",
        "  # 위로 1칸 간다면? (2,2) > (1,2)\n",
        "  elif dir == '위쪽' :\n",
        "    y = y-1\n",
        "    y, x = check(dir, y, x)\n",
        "    #if y < 0 :\n",
        "      #y=0\n",
        "      #print('더 이상 위쪽으로 갈 수 없습니다. ')\n",
        "\n",
        "  # 아래로 1칸 간다면? (2,2) > (3,2)\n",
        "  elif dir == '아래쪽' :\n",
        "    y = y+1\n",
        "    y, x = check(dir, y, x)\n",
        "    #if y > 4 :\n",
        "      #y=4\n",
        "      #print('더 이상 아래쪽으로 갈 수 없습니다. ')\n",
        "\n",
        "  elif dir == '그만' :\n",
        "    break\n",
        "  \n",
        "  print(y,x)\n",
        "\n",
        "  # lists 업데이트 : 이동한 후의 좌표는 1로 만든다\n",
        "  lists[y][x] = 1\n",
        "\n",
        "  print_doublelist(lists)\n"
      ],
      "execution_count": 9,
      "outputs": [
        {
          "output_type": "stream",
          "text": [
            "이중 리스트를 출력합니다.\n",
            "0 0 0 0 0 \n",
            "0 0 0 0 0 \n",
            "0 0 1 0 0 \n",
            "0 0 0 0 0 \n",
            "0 0 0 0 0 \n",
            "이중 리스트의 출력이 끝났습니다.\n",
            "\n",
            "방향을 입력하세요(그만하시고 싶으시면 '그만'이라고 입력하세요) : 오른쪽\n",
            "2 3\n",
            "이중 리스트를 출력합니다.\n",
            "0 0 0 0 0 \n",
            "0 0 0 0 0 \n",
            "0 0 0 1 0 \n",
            "0 0 0 0 0 \n",
            "0 0 0 0 0 \n",
            "이중 리스트의 출력이 끝났습니다.\n",
            "\n",
            "방향을 입력하세요(그만하시고 싶으시면 '그만'이라고 입력하세요) : 위쪽\n",
            "1 3\n",
            "이중 리스트를 출력합니다.\n",
            "0 0 0 0 0 \n",
            "0 0 0 1 0 \n",
            "0 0 0 0 0 \n",
            "0 0 0 0 0 \n",
            "0 0 0 0 0 \n",
            "이중 리스트의 출력이 끝났습니다.\n",
            "\n",
            "방향을 입력하세요(그만하시고 싶으시면 '그만'이라고 입력하세요) : 그만\n"
          ],
          "name": "stdout"
        }
      ]
    }
  ]
}